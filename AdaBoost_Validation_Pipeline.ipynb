{
 "cells": [
  {
   "cell_type": "code",
   "execution_count": 1,
   "id": "7bb7352c",
   "metadata": {},
   "outputs": [],
   "source": [
    "# This code snippet perform prediction on validation dataset and generates emotion plot based on a \n",
    "# 1 sound sample from each quadrant of validation dataset.\n",
    "\n",
    "import os\n",
    "import pandas as pd\n",
    "import Feature_Extraction_Util_V2 as util\n",
    "\n",
    "# Loading the model\n",
    "import pickle\n",
    "\n",
    "# plot\n",
    "import matplotlib.pyplot as plt\n",
    "import seaborn as sns\n",
    "\n",
    "# Play sound\n",
    "from playsound import playsound\n",
    "\n",
    "#Utility functions\n",
    "def play_music(song_path):\n",
    "    playsound(song_path)\n",
    "    \n",
    "def make_predictions(raw_dataset, carnatic_raga_flag = 'N', plots_needed='N',raga_name=\"\"):\n",
    "    model_file_path = \"D:/PhD Program/Final Research/Dissertation/Data/Model Datasets/\" # Hardcoded for now\n",
    "    data_df_test = raw_dataset\n",
    "    data_df_test = data_df_test.fillna(0)\n",
    "    cols_to_choose = ['spect_centroid_median', 'loudness_mean', 'spect_rolloff_mean', 'f0_mean', 'mel_57_median', 'mel_60_median',\n",
    "     'spect_contrast_median', 'f0_max', 'power_median', 'mel_3_mean', 'power_iqr', 'mel_4_sd', 'mel_45_median', 'power_mean', 'f0_median', 'mel_14_min', 'power_max', 'mel_2_max', 'mel_48_median', 'zcr_median', 'mel_1_max',\n",
    "     'mel_4_median', 'spect_rolloff_median', 'spect_contrast_mean', 'zcr_iqr', 'mel_2_iqr', 'spect_centroid_max',\n",
    "     'rms_max', 'mel_4_max', 'mel_0_sd', 'mel_0_iqr', 'spect_centroid_min', 'mel_1_median', 'power_sd',\n",
    "     'spect_contrast_min', 'mel_3_sd', 'mel_0_median', 'mel_60_min', 'spect_rolloff_sd', 'zcr_mean', 'mel_23_median',\n",
    "     'spect_rolloff_iqr', 'mel_2_sd', 'spect_bw_median', 'mel_6_max', 'spect_rolloff_max', 'spect_contrast_sd',\n",
    "     'spect_centroid_sd', 'mel_61_median', 'mel_40_iqr', 'mel_3_iqr', 'spect_bw_max', 'mel_0_max', 'spect_bw_min',\n",
    "     'zcr_sd', 'mel_61_iqr', 'mel_54_median', 'mel_4_mean', 'mel_8_min', 'mel_5_min', 'zcr_max', 'mel_38_iqr', 'mel_56_median', 'mel_5_max', 'spect_centroid_mean', 'mel_45_iqr', 'mel_7_iqr', 'mel_1_iqr', 'mel_13_min',\n",
    "     'mel_40_median', 'mel_2_median', 'mel_59_median', 'mel_46_median', 'mel_8_median', 'mel_9_iqr', 'spect_bw_mean',\n",
    "     'spect_bw_sd', 'mel_11_median', 'mel_6_sd', 'plp_mean', 'mel_7_min', 'mel_42_median', 'mel_12_min', 'mel_1_mean',\n",
    "     'mel_39_median', 'mel_34_min', 'mel_11_mean', 'spect_contrast_iqr', 'mel_7_max', 'mel_53_median']\n",
    "    \n",
    "    # load the model\n",
    "    ab_model_4_class = pickle.load(open(model_file_path+\"AB_final_model_4_classes.md5\",'rb'))\n",
    "\n",
    "    emotion_vals = ['Happy','Anger, Disgust, Fear','Sad','Calm']\n",
    "    # make predictions\n",
    "\n",
    "    mean_vals =[]\n",
    "    color_vals = []\n",
    "    q_vals = []\n",
    "    #print(file_name)\n",
    "\n",
    "    if carnatic_raga_flag == 'Y':\n",
    "        orig_class =''\n",
    "    else:\n",
    "        orig_class = ''.join(set(data_df_test.sound_file_class))\n",
    "    data_df_test = data_df_test[cols_to_choose]\n",
    "    y_pred_model = ab_model_4_class.predict(data_df_test)\n",
    "    y_pred_model_prob = ab_model_4_class.predict_proba(data_df_test)\n",
    "\n",
    "    total_rec = len(y_pred_model)\n",
    "    q1_count = 0\n",
    "    q2_count = 0\n",
    "    q3_count = 0\n",
    "    q4_count = 0\n",
    "    agg_vals = []\n",
    "    for pred_val in y_pred_model:\n",
    "\n",
    "        if pred_val == 1:\n",
    "            mean_val = 0.375\n",
    "            color_val = 'green'\n",
    "            q_val = 'Q2'\n",
    "            q2_count += 1\n",
    "        elif pred_val == 2:\n",
    "            mean_val = 0.625\n",
    "            color_val = 'blue'\n",
    "            q_val = 'Q3'\n",
    "            q3_count += 1\n",
    "        elif pred_val == 3:\n",
    "            mean_val = 0.875\n",
    "            color_val = 'black'\n",
    "            q_val = 'Q4'\n",
    "            q4_count += 1\n",
    "        else:\n",
    "            mean_val = 0.125\n",
    "            color_val = 'gray'\n",
    "            q_val = 'Q1'\n",
    "            q1_count += 1\n",
    "\n",
    "        mean_vals.append(mean_val)\n",
    "        color_vals.append(color_val)\n",
    "        q_vals.append(q_val)\n",
    "\n",
    "    agg_vals.append(round((q1_count/total_rec)*100,2))\n",
    "    agg_vals.append(round((q2_count/total_rec)*100,2))\n",
    "    agg_vals.append(round((q3_count/total_rec)*100,2))\n",
    "    agg_vals.append(round((q4_count/total_rec)*100,2))\n",
    "\n",
    "#     emotion_df = pd.DataFrame({'mer_val':mean_vals,\n",
    "#                                'quad_val':q_vals,\n",
    "#                               'color_code':color_vals})  \n",
    "    \n",
    "    emotion_df_grp = pd.DataFrame({\"Emotion\":emotion_vals,\n",
    "                                  \"perc\":agg_vals,\n",
    "                                  \"Quadrant\":['Q1','Q2','Q3','Q4']})\n",
    "    \n",
    "    if plots_needed == 'Y':\n",
    "        # plot predictions\n",
    "        x = [i for i in range(0,len(mean_vals))]\n",
    "        plt.plot(x,mean_vals, color = 'gray', linewidth=0.25)\n",
    "        plt.scatter(x,mean_vals, c=color_vals)\n",
    "        plt.axhline(y=0, c='gray', linestyle='--',  linewidth=0.5, label='Q1')\n",
    "        plt.axhline(y=0.25, c='green', linestyle='--',  linewidth=0.5, label='Q2')\n",
    "        plt.axhline(y=0.5, c='blue', linestyle='--',  linewidth=0.5, label='Q3')\n",
    "        plt.axhline(y=0.75, c='black', linestyle='--',  linewidth=0.5, label='Q4')\n",
    "\n",
    "        if carnatic_raga_flag=='Y':\n",
    "            plt.title(\"Emotion plot -\"+raga_name)\n",
    "        else:\n",
    "            plt.title(file_name+\": original emotion quadrant - \"+orig_class)\n",
    "        ax=plt.gca()\n",
    "        ax.get_yaxis().set_visible(False)\n",
    "        ax.get_xaxis().set_visible(False)\n",
    "        plt.legend(bbox_to_anchor=(1.05,1), loc=\"upper left\")\n",
    "        plt.ylim(0,1)\n",
    "        plt.show()\n",
    "\n",
    "\n",
    "\n",
    "    #     emotion_df_grp = pd.DataFrame(emotion_df.groupby(['color_code'])['mer_val'].count()).reset_index()\n",
    "    #     emotion_df_grp['perc'] = round((emotion_df_grp['mer_val']/sum(emotion_df_grp['mer_val']))*100,2)\n",
    "    #     emotion_df_grp['Emotion Quadrant'] = emotion_df_grp.apply(lambda x: 'Q4' if x.color_code == 'black' \n",
    "    #                                                               else ('Q2' if x.color_code == 'green' \n",
    "    #                                                                     else ('Q3' if x.color_code == 'blue' else 'Q1')), axis=1)\n",
    "\n",
    "    #     emotion_df_grp['Emotion'] = emotion_df_grp.apply(lambda x: 'Calm' if x.color_code == 'black' \n",
    "    #                                                           else ('Anger, Disgust, Fear' if x.color_code == 'green' \n",
    "    #                                                                 else ('Sad' if x.color_code == 'blue' else 'Happy')), axis=1)\n",
    "\n",
    "    #     emotion_df_grp.sort_values(by=['Emotion Quadrant'], inplace=True)\n",
    "        \n",
    "        sns_plot = sns.barplot(x=\"Emotion\", y=\"perc\", data=emotion_df_grp, dodge=False)\n",
    "        for bar in sns_plot.patches:\n",
    "            sns_plot.annotate(str(bar.get_height())+\"%\",\n",
    "                           (bar.get_x() + bar.get_width() / 2,\n",
    "                            bar.get_height()), ha='center', va='center',\n",
    "                           size=10, xytext=(0, 8),\n",
    "                           textcoords='offset points')\n",
    "            bar.set_color('blue')\n",
    "\n",
    "\n",
    "        if carnatic_raga_flag == 'Y':\n",
    "            plt.title(\"Emotion plot - \"+raga_name)\n",
    "        else:\n",
    "            plt.title(file_name+\": original emotion quadrant - \"+orig_class)\n",
    "        plt.ylim(0,110)\n",
    "        plt.show()\n",
    "    return emotion_df_grp\n",
    "    \n",
    "def getMER(file_name, raga_name, hilbert_transform_val='N', plots_needed = 'N'):\n",
    "    # This routine extracts musical features and make the perdiction on emotion classification\n",
    "    # The classification results is returned as a dataframe and the emotion plots - trend and bar\n",
    "    # are returned as objects. Hence this function returns 3 elements\n",
    "    \n",
    "    # Error handling is not implement yet in this routine\n",
    "    # Input paramters are:\n",
    "    # 1. file_name - full path of the song (mp3 file) \n",
    "    # 2. raga_name - name of the raga to which the song belongs to\n",
    "    \n",
    "    # Default values/parameters\n",
    "    num_mfcc = 20\n",
    "    num_mel = 64\n",
    "    mel_cutoff_val = 0.01\n",
    "    hilbert_transform_val = \"N\"\n",
    "    MFCC_flag = \"Y\" \n",
    "\n",
    "    file_path = file_name\n",
    "    print(\"Extracting features for ..... :\" + file_path)\n",
    "    \n",
    "    db_row = {'sound_file_name': [file_name],\n",
    "             'raga':[raga_name]}\n",
    "    \n",
    "    feat_util = util.Feature_Util() # Ensure that Feature_Extraction_Util_V2 package is imported\n",
    "    # read sound file\n",
    "    ret_val, msg_val, full_signal_val, sr = feat_util.readSignal(file_path,hilbert_transform=hilbert_transform_val)\n",
    "\n",
    "    sound_file_size = len(full_signal_val)/sr\n",
    "    # 5 second window\n",
    "    window_size_duration = 5*sr \n",
    "\n",
    "    # start after 3 seconds\n",
    "    start_pos = 3*sr \n",
    "    slider_width = window_size_duration\n",
    "    overlap_sample_size = sr\n",
    "    end_pos = start_pos +  slider_width - overlap_sample_size\n",
    "    exit_flag = False\n",
    "    sample_cntr = 1\n",
    "    \n",
    "    while not exit_flag:\n",
    "        end_pos = start_pos +  slider_width - overlap_sample_size\n",
    "        if end_pos > len(full_signal_val):\n",
    "            end_pos = len(full_signal_val)\n",
    "            exit_flag = True    \n",
    "        # Extract a sample from the whole signal \n",
    "        signal_val = full_signal_val[start_pos:end_pos]\n",
    "        #print(\" Start: \" + str(start_pos)+\" , End: \"+str(end_pos))\n",
    "        start_pos = end_pos\n",
    "        # get features and aggregations\n",
    "        # F0\n",
    "        ret_val, msg_str, feature_val =  feat_util.getFZero(signal_val)\n",
    "        agg_val, msg_str = feat_util.calcAggregations(feature_val, feature_name=\"F0\",mean_agg = \"Y\", median_agg = \"Y\", max_agg = \"Y\", min_agg = \"Y\", IQR_agg = \"N\", sd_agg =\"N\")\n",
    "        db_row = db_row | agg_val\n",
    "\n",
    "        # RMS\n",
    "        ret_val,msg_str, feature_val =  feat_util.getRMS(signal_val)\n",
    "        agg_val, msg_str = feat_util.calcAggregations(feature_val, feature_name=\"RMS\",mean_agg = \"Y\", median_agg = \"Y\", max_agg = \"Y\", min_agg = \"N\", IQR_agg = \"N\", sd_agg =\"N\")\n",
    "        db_row = db_row | agg_val\n",
    "\n",
    "        # Spectral Centroid\n",
    "        ret_val,msg_str, feature_val =  feat_util.getSpectralCentroid(signal_val)\n",
    "        agg_val, msg_str = feat_util.calcAggregations(feature_val, feature_name=\"spect_centroid\")\n",
    "        db_row = db_row | agg_val\n",
    "\n",
    "        # Spectral Roll Off\n",
    "        ret_val,msg_str, feature_val =  feat_util.getSpectralRolloff(signal_val)\n",
    "        agg_val, msg_str = feat_util.calcAggregations(feature_val, feature_name=\"spect_rolloff\")\n",
    "        db_row = db_row | agg_val\n",
    "\n",
    "        # Spectral Flatness\n",
    "        ret_val,msg_str, feature_val =  feat_util.getSpectralFlatness(signal_val)\n",
    "        agg_val, msg_str = feat_util.calcAggregations(feature_val, feature_name=\"spect_flat\")\n",
    "        db_row = db_row | agg_val\n",
    "\n",
    "        # Spectral BW\n",
    "        ret_val,msg_str, feature_val =  feat_util.getSpectralBW(signal_val)\n",
    "        agg_val, msg_str = feat_util.calcAggregations(feature_val, feature_name=\"spect_bw\")\n",
    "        db_row = db_row | agg_val\n",
    "\n",
    "        # Spectral Contrast\n",
    "        ret_val,msg_str, feature_val =  feat_util.getSpectralContrast(signal_val)\n",
    "        agg_val, msg_str = feat_util.calcAggregations(feature_val, feature_name=\"spect_contrast\")\n",
    "        db_row = db_row | agg_val\n",
    "\n",
    "        # ZCR\n",
    "        ret_val,msg_str, feature_val =  feat_util.getZCR(signal_val)\n",
    "        agg_val, msg_str = feat_util.calcAggregations(feature_val, feature_name=\"ZCR\")\n",
    "        db_row = db_row | agg_val\n",
    "\n",
    "        # Beat / Tempo\n",
    "        ret_val,msg_str, feature_val =  feat_util.getTempo(signal_val, sr)\n",
    "        agg_val, msg_str = feat_util.calcAggregations(feature_val, feature_name=\"tempo\")\n",
    "        db_row = db_row | agg_val\n",
    "\n",
    "        # PLP\n",
    "        ret_val,msg_str, feature_val =  feat_util.getPLP(signal_val, sr)\n",
    "        agg_val, msg_str = feat_util.calcAggregations(feature_val, feature_name=\"plp\")\n",
    "        db_row = db_row | agg_val\n",
    "\n",
    "        # Power\n",
    "        ret_val,msg_str, feature_val =  feat_util.getPower(signal_val, sr=sr)\n",
    "        agg_val, msg_str = feat_util.calcAggregations(feature_val, feature_name=\"power\")\n",
    "        db_row = db_row | agg_val\n",
    "\n",
    "        # get MFCC's\n",
    "        if MFCC_flag == \"Y\":\n",
    "            for mfcc_count in range(num_mfcc):\n",
    "                mfcc_str = \"MFCC_\" + str(mfcc_count)\n",
    "                ret_val, msg_str, feature_val = feat_util.getMFCC(signal_val, sr=sr, pos_val=mfcc_count)\n",
    "                agg_val, msg_str = feat_util.calcAggregations(feature_val, feature_name=mfcc_str)\n",
    "                db_row = db_row | agg_val\n",
    "\n",
    "        # get MEL\n",
    "        for mel_count in range(num_mel):\n",
    "            mel_str = \"mel_\" + str(mel_count)\n",
    "            ret_val, msg_str, feature_val = feat_util.getMel(signal_val, sr=sr, pos_val=mel_count, cutoff_val=mel_cutoff_val)\n",
    "            agg_val, msg_str = feat_util.calcAggregations(feature_val, feature_name=mel_str)\n",
    "            db_row = db_row | agg_val\n",
    "\n",
    "        # get Loudness\n",
    "        ret_val,msg_str, feature_val =  feat_util.getLoudness(file_path)\n",
    "        #agg_val, msg_str = feat_util.calcAggregations(feature_val, feature_name=\"loudness\")\n",
    "        db_row = db_row | {'loudness_mean':[feature_val]}\n",
    "\n",
    "        # get Chromagram - To be included later. Hence commenting.\n",
    "        # ret_val,msg_str, feature_val = feat_util.getChromagram(signal_val, sr=sr)\n",
    "        # agg_val, msg_str = feat_util.calcAggregations(feature_val, feature_name=\"chromagram\")\n",
    "        # db_row = db_row | agg_val\n",
    "\n",
    "        temp_df = pd.DataFrame(db_row)\n",
    "        # Build feature dataset\n",
    "        if sample_cntr == 1:\n",
    "            sample_df = temp_df\n",
    "            #break\n",
    "        else:\n",
    "            sample_df = pd.concat([sample_df,temp_df],axis=0)\n",
    "        sample_cntr += 1\n",
    "    print(\"Making predictions.....:\")\n",
    "    #print(sample_df.shape)\n",
    "    pred_df = make_predictions(sample_df,carnatic_raga_flag='Y',plots_needed=plots_needed,raga_name=raga_name)\n",
    "    return pred_df"
   ]
  },
  {
   "cell_type": "code",
   "execution_count": 4,
   "id": "2588d616",
   "metadata": {},
   "outputs": [
    {
     "name": "stdout",
     "output_type": "stream",
     "text": [
      "Getting songs of raga : Mayamalavagaula\n",
      "Extracting features for ..... :D:/PhD Program/Final Research/Carnatic Songs/Vocals/Mayamalavagaula/01-cintayEham_jAnakIkAntam-mAyAmALavagauLa.mp3\n"
     ]
    },
    {
     "name": "stderr",
     "output_type": "stream",
     "text": [
      "D:\\MyApps\\anaconda3\\lib\\site-packages\\librosa\\core\\audio.py:165: UserWarning: PySoundFile failed. Trying audioread instead.\n",
      "  warnings.warn(\"PySoundFile failed. Trying audioread instead.\")\n",
      "D:\\MyApps\\anaconda3\\lib\\site-packages\\librosa\\core\\spectrum.py:222: UserWarning: n_fft=384 is too small for input signal of length=345\n",
      "  warnings.warn(\n",
      "D:\\MyApps\\anaconda3\\lib\\site-packages\\numpy\\core\\fromnumeric.py:3419: RuntimeWarning: Mean of empty slice.\n",
      "  return _methods._mean(a, axis=axis, dtype=dtype,\n",
      "D:\\MyApps\\anaconda3\\lib\\site-packages\\numpy\\core\\_methods.py:188: RuntimeWarning: invalid value encountered in double_scalars\n",
      "  ret = ret.dtype.type(ret / rcount)\n",
      "D:\\MyApps\\anaconda3\\lib\\site-packages\\librosa\\core\\spectrum.py:222: UserWarning: n_fft=384 is too small for input signal of length=173\n",
      "  warnings.warn(\n"
     ]
    },
    {
     "name": "stdout",
     "output_type": "stream",
     "text": [
      "Making predictions.....:\n",
      "(4, 3)\n",
      "Extracting features for ..... :D:/PhD Program/Final Research/Carnatic Songs/Vocals/Mayamalavagaula/01-dasharatha_nandana_disha-mAyAmALavagauLa.mp3\n"
     ]
    },
    {
     "name": "stderr",
     "output_type": "stream",
     "text": [
      "D:\\MyApps\\anaconda3\\lib\\site-packages\\librosa\\core\\audio.py:165: UserWarning: PySoundFile failed. Trying audioread instead.\n",
      "  warnings.warn(\"PySoundFile failed. Trying audioread instead.\")\n",
      "D:\\MyApps\\anaconda3\\lib\\site-packages\\librosa\\core\\spectrum.py:222: UserWarning: n_fft=384 is too small for input signal of length=345\n",
      "  warnings.warn(\n",
      "D:\\MyApps\\anaconda3\\lib\\site-packages\\librosa\\core\\spectrum.py:222: UserWarning: n_fft=2048 is too small for input signal of length=1188\n",
      "  warnings.warn(\n",
      "D:\\MyApps\\anaconda3\\lib\\site-packages\\librosa\\core\\spectrum.py:222: UserWarning: n_fft=384 is too small for input signal of length=3\n",
      "  warnings.warn(\n",
      "D:\\MyApps\\anaconda3\\lib\\site-packages\\numpy\\core\\fromnumeric.py:3419: RuntimeWarning: Mean of empty slice.\n",
      "  return _methods._mean(a, axis=axis, dtype=dtype,\n",
      "D:\\MyApps\\anaconda3\\lib\\site-packages\\numpy\\core\\_methods.py:188: RuntimeWarning: invalid value encountered in double_scalars\n",
      "  ret = ret.dtype.type(ret / rcount)\n"
     ]
    },
    {
     "name": "stdout",
     "output_type": "stream",
     "text": [
      "Making predictions.....:\n",
      "(4, 3)\n",
      "Extracting features for ..... :D:/PhD Program/Final Research/Carnatic Songs/Vocals/Mayamalavagaula/01-dEvadEva_kalayAmi-mAyAmALavagauLa-swAtitirunAL.mp3\n"
     ]
    },
    {
     "name": "stderr",
     "output_type": "stream",
     "text": [
      "D:\\MyApps\\anaconda3\\lib\\site-packages\\librosa\\core\\audio.py:165: UserWarning: PySoundFile failed. Trying audioread instead.\n",
      "  warnings.warn(\"PySoundFile failed. Trying audioread instead.\")\n",
      "D:\\MyApps\\anaconda3\\lib\\site-packages\\librosa\\core\\spectrum.py:222: UserWarning: n_fft=384 is too small for input signal of length=345\n",
      "  warnings.warn(\n",
      "D:\\MyApps\\anaconda3\\lib\\site-packages\\librosa\\core\\spectrum.py:222: UserWarning: n_fft=384 is too small for input signal of length=277\n",
      "  warnings.warn(\n"
     ]
    },
    {
     "name": "stdout",
     "output_type": "stream",
     "text": [
      "Making predictions.....:\n",
      "(4, 3)\n",
      "Extracting features for ..... :D:/PhD Program/Final Research/Carnatic Songs/Vocals/Mayamalavagaula/01-sarasijanAbhamurArE-mAyAmALavagauLa.mp3\n"
     ]
    },
    {
     "name": "stderr",
     "output_type": "stream",
     "text": [
      "D:\\MyApps\\anaconda3\\lib\\site-packages\\librosa\\core\\audio.py:165: UserWarning: PySoundFile failed. Trying audioread instead.\n",
      "  warnings.warn(\"PySoundFile failed. Trying audioread instead.\")\n",
      "D:\\MyApps\\anaconda3\\lib\\site-packages\\librosa\\core\\spectrum.py:222: UserWarning: n_fft=384 is too small for input signal of length=345\n",
      "  warnings.warn(\n",
      "D:\\MyApps\\anaconda3\\lib\\site-packages\\librosa\\core\\spectrum.py:222: UserWarning: n_fft=384 is too small for input signal of length=216\n",
      "  warnings.warn(\n"
     ]
    },
    {
     "name": "stdout",
     "output_type": "stream",
     "text": [
      "Making predictions.....:\n",
      "(4, 3)\n",
      "Extracting features for ..... :D:/PhD Program/Final Research/Carnatic Songs/Vocals/Mayamalavagaula/01-shrI_nathAdi_guruguhO-mAyAmALavagauLa.mp3\n"
     ]
    },
    {
     "name": "stderr",
     "output_type": "stream",
     "text": [
      "D:\\MyApps\\anaconda3\\lib\\site-packages\\librosa\\core\\audio.py:165: UserWarning: PySoundFile failed. Trying audioread instead.\n",
      "  warnings.warn(\"PySoundFile failed. Trying audioread instead.\")\n",
      "D:\\MyApps\\anaconda3\\lib\\site-packages\\librosa\\core\\spectrum.py:222: UserWarning: n_fft=384 is too small for input signal of length=345\n",
      "  warnings.warn(\n",
      "D:\\MyApps\\anaconda3\\lib\\site-packages\\numpy\\core\\fromnumeric.py:3419: RuntimeWarning: Mean of empty slice.\n",
      "  return _methods._mean(a, axis=axis, dtype=dtype,\n",
      "D:\\MyApps\\anaconda3\\lib\\site-packages\\numpy\\core\\_methods.py:188: RuntimeWarning: invalid value encountered in double_scalars\n",
      "  ret = ret.dtype.type(ret / rcount)\n",
      "D:\\MyApps\\anaconda3\\lib\\site-packages\\librosa\\core\\spectrum.py:222: UserWarning: n_fft=384 is too small for input signal of length=253\n",
      "  warnings.warn(\n"
     ]
    },
    {
     "name": "stdout",
     "output_type": "stream",
     "text": [
      "Making predictions.....:\n",
      "(4, 3)\n",
      "Extracting features for ..... :D:/PhD Program/Final Research/Carnatic Songs/Vocals/Mayamalavagaula/01_Tulasidalamulache_MayalmalavaGowla_Rupaka_Tyagaraja.mp3\n"
     ]
    },
    {
     "name": "stderr",
     "output_type": "stream",
     "text": [
      "D:\\MyApps\\anaconda3\\lib\\site-packages\\librosa\\core\\audio.py:165: UserWarning: PySoundFile failed. Trying audioread instead.\n",
      "  warnings.warn(\"PySoundFile failed. Trying audioread instead.\")\n",
      "D:\\MyApps\\anaconda3\\lib\\site-packages\\librosa\\core\\spectrum.py:222: UserWarning: n_fft=384 is too small for input signal of length=345\n",
      "  warnings.warn(\n",
      "D:\\MyApps\\anaconda3\\lib\\site-packages\\numpy\\core\\fromnumeric.py:3419: RuntimeWarning: Mean of empty slice.\n",
      "  return _methods._mean(a, axis=axis, dtype=dtype,\n",
      "D:\\MyApps\\anaconda3\\lib\\site-packages\\numpy\\core\\_methods.py:188: RuntimeWarning: invalid value encountered in double_scalars\n",
      "  ret = ret.dtype.type(ret / rcount)\n",
      "D:\\MyApps\\anaconda3\\lib\\site-packages\\librosa\\core\\spectrum.py:222: UserWarning: n_fft=384 is too small for input signal of length=247\n",
      "  warnings.warn(\n"
     ]
    },
    {
     "name": "stdout",
     "output_type": "stream",
     "text": [
      "Making predictions.....:\n",
      "(4, 3)\n",
      "Getting songs of raga : Bhairavi\n",
      "Extracting features for ..... :D:/PhD Program/Final Research/Carnatic Songs/Vocals/Bhairavi/01-viribOni-varanam-bairavi-pachimiriyam_Adiyappa.mp3\n"
     ]
    },
    {
     "name": "stderr",
     "output_type": "stream",
     "text": [
      "D:\\MyApps\\anaconda3\\lib\\site-packages\\librosa\\core\\audio.py:165: UserWarning: PySoundFile failed. Trying audioread instead.\n",
      "  warnings.warn(\"PySoundFile failed. Trying audioread instead.\")\n",
      "D:\\MyApps\\anaconda3\\lib\\site-packages\\librosa\\core\\spectrum.py:222: UserWarning: n_fft=384 is too small for input signal of length=345\n",
      "  warnings.warn(\n",
      "D:\\MyApps\\anaconda3\\lib\\site-packages\\librosa\\core\\spectrum.py:222: UserWarning: n_fft=384 is too small for input signal of length=295\n",
      "  warnings.warn(\n"
     ]
    },
    {
     "name": "stdout",
     "output_type": "stream",
     "text": [
      "Making predictions.....:\n",
      "(4, 3)\n",
      "Extracting features for ..... :D:/PhD Program/Final Research/Carnatic Songs/Vocals/Bhairavi/01-viribONi_ninnE-VARNAM-bhairavi.mp3\n"
     ]
    },
    {
     "name": "stderr",
     "output_type": "stream",
     "text": [
      "D:\\MyApps\\anaconda3\\lib\\site-packages\\librosa\\core\\audio.py:165: UserWarning: PySoundFile failed. Trying audioread instead.\n",
      "  warnings.warn(\"PySoundFile failed. Trying audioread instead.\")\n",
      "D:\\MyApps\\anaconda3\\lib\\site-packages\\librosa\\core\\spectrum.py:222: UserWarning: n_fft=384 is too small for input signal of length=345\n",
      "  warnings.warn(\n",
      "D:\\MyApps\\anaconda3\\lib\\site-packages\\numpy\\core\\fromnumeric.py:3419: RuntimeWarning: Mean of empty slice.\n",
      "  return _methods._mean(a, axis=axis, dtype=dtype,\n",
      "D:\\MyApps\\anaconda3\\lib\\site-packages\\numpy\\core\\_methods.py:188: RuntimeWarning: invalid value encountered in double_scalars\n",
      "  ret = ret.dtype.type(ret / rcount)\n",
      "D:\\MyApps\\anaconda3\\lib\\site-packages\\librosa\\core\\spectrum.py:222: UserWarning: n_fft=2048 is too small for input signal of length=180\n",
      "  warnings.warn(\n",
      "D:\\MyApps\\anaconda3\\lib\\site-packages\\librosa\\core\\spectrum.py:222: UserWarning: n_fft=384 is too small for input signal of length=1\n",
      "  warnings.warn(\n"
     ]
    },
    {
     "name": "stdout",
     "output_type": "stream",
     "text": [
      "Making predictions.....:\n",
      "(4, 3)\n",
      "Extracting features for ..... :D:/PhD Program/Final Research/Carnatic Songs/Vocals/Bhairavi/02-Amba-kamakshi-Bairavi-M.-Chapu-Syama-Sastri.mp3\n"
     ]
    },
    {
     "name": "stderr",
     "output_type": "stream",
     "text": [
      "D:\\MyApps\\anaconda3\\lib\\site-packages\\librosa\\core\\audio.py:165: UserWarning: PySoundFile failed. Trying audioread instead.\n",
      "  warnings.warn(\"PySoundFile failed. Trying audioread instead.\")\n",
      "D:\\MyApps\\anaconda3\\lib\\site-packages\\librosa\\core\\spectrum.py:222: UserWarning: n_fft=384 is too small for input signal of length=345\n",
      "  warnings.warn(\n",
      "D:\\MyApps\\anaconda3\\lib\\site-packages\\librosa\\core\\spectrum.py:222: UserWarning: n_fft=384 is too small for input signal of length=187\n",
      "  warnings.warn(\n",
      "D:\\MyApps\\anaconda3\\lib\\site-packages\\numpy\\core\\fromnumeric.py:3419: RuntimeWarning: Mean of empty slice.\n",
      "  return _methods._mean(a, axis=axis, dtype=dtype,\n",
      "D:\\MyApps\\anaconda3\\lib\\site-packages\\numpy\\core\\_methods.py:188: RuntimeWarning: invalid value encountered in double_scalars\n",
      "  ret = ret.dtype.type(ret / rcount)\n"
     ]
    },
    {
     "name": "stdout",
     "output_type": "stream",
     "text": [
      "Making predictions.....:\n",
      "(4, 3)\n",
      "Extracting features for ..... :D:/PhD Program/Final Research/Carnatic Songs/Vocals/Bhairavi/02-mahA_tripurasundari-bhairavi.mp3\n"
     ]
    },
    {
     "name": "stderr",
     "output_type": "stream",
     "text": [
      "D:\\MyApps\\anaconda3\\lib\\site-packages\\librosa\\core\\audio.py:165: UserWarning: PySoundFile failed. Trying audioread instead.\n",
      "  warnings.warn(\"PySoundFile failed. Trying audioread instead.\")\n",
      "D:\\MyApps\\anaconda3\\lib\\site-packages\\librosa\\core\\spectrum.py:222: UserWarning: n_fft=384 is too small for input signal of length=345\n",
      "  warnings.warn(\n",
      "D:\\MyApps\\anaconda3\\lib\\site-packages\\librosa\\core\\spectrum.py:222: UserWarning: n_fft=384 is too small for input signal of length=343\n",
      "  warnings.warn(\n"
     ]
    },
    {
     "name": "stdout",
     "output_type": "stream",
     "text": [
      "Making predictions.....:\n",
      "(4, 3)\n",
      "Extracting features for ..... :D:/PhD Program/Final Research/Carnatic Songs/Vocals/Bhairavi/02-nI_pAdamulE_gatiyani-bhairavi.MP3\n"
     ]
    },
    {
     "name": "stderr",
     "output_type": "stream",
     "text": [
      "D:\\MyApps\\anaconda3\\lib\\site-packages\\librosa\\core\\audio.py:165: UserWarning: PySoundFile failed. Trying audioread instead.\n",
      "  warnings.warn(\"PySoundFile failed. Trying audioread instead.\")\n",
      "D:\\MyApps\\anaconda3\\lib\\site-packages\\librosa\\core\\spectrum.py:222: UserWarning: n_fft=384 is too small for input signal of length=345\n",
      "  warnings.warn(\n",
      "D:\\MyApps\\anaconda3\\lib\\site-packages\\numpy\\core\\fromnumeric.py:3419: RuntimeWarning: Mean of empty slice.\n",
      "  return _methods._mean(a, axis=axis, dtype=dtype,\n",
      "D:\\MyApps\\anaconda3\\lib\\site-packages\\numpy\\core\\_methods.py:188: RuntimeWarning: invalid value encountered in double_scalars\n",
      "  ret = ret.dtype.type(ret / rcount)\n",
      "D:\\MyApps\\anaconda3\\lib\\site-packages\\librosa\\core\\spectrum.py:222: UserWarning: n_fft=384 is too small for input signal of length=266\n",
      "  warnings.warn(\n"
     ]
    },
    {
     "name": "stdout",
     "output_type": "stream",
     "text": [
      "Making predictions.....:\n",
      "(4, 3)\n",
      "Extracting features for ..... :D:/PhD Program/Final Research/Carnatic Songs/Vocals/Bhairavi/02-upacAramu_jEsE_vArunnarAni-bhairavi.MP3\n"
     ]
    },
    {
     "name": "stderr",
     "output_type": "stream",
     "text": [
      "D:\\MyApps\\anaconda3\\lib\\site-packages\\librosa\\core\\audio.py:165: UserWarning: PySoundFile failed. Trying audioread instead.\n",
      "  warnings.warn(\"PySoundFile failed. Trying audioread instead.\")\n",
      "D:\\MyApps\\anaconda3\\lib\\site-packages\\librosa\\core\\spectrum.py:222: UserWarning: n_fft=384 is too small for input signal of length=345\n",
      "  warnings.warn(\n",
      "D:\\MyApps\\anaconda3\\lib\\site-packages\\numpy\\core\\fromnumeric.py:3419: RuntimeWarning: Mean of empty slice.\n",
      "  return _methods._mean(a, axis=axis, dtype=dtype,\n",
      "D:\\MyApps\\anaconda3\\lib\\site-packages\\numpy\\core\\_methods.py:188: RuntimeWarning: invalid value encountered in double_scalars\n",
      "  ret = ret.dtype.type(ret / rcount)\n",
      "D:\\MyApps\\anaconda3\\lib\\site-packages\\librosa\\core\\spectrum.py:222: UserWarning: n_fft=384 is too small for input signal of length=213\n",
      "  warnings.warn(\n"
     ]
    },
    {
     "name": "stdout",
     "output_type": "stream",
     "text": [
      "Making predictions.....:\n",
      "(4, 3)\n",
      "Getting songs of raga : Kalyani\n",
      "Extracting features for ..... :D:/PhD Program/Final Research/Carnatic Songs/Vocals/Kalyani/01-bhajana_sEyavE_manasA-kalyANi.mp3\n"
     ]
    },
    {
     "name": "stderr",
     "output_type": "stream",
     "text": [
      "D:\\MyApps\\anaconda3\\lib\\site-packages\\librosa\\core\\audio.py:165: UserWarning: PySoundFile failed. Trying audioread instead.\n",
      "  warnings.warn(\"PySoundFile failed. Trying audioread instead.\")\n",
      "D:\\MyApps\\anaconda3\\lib\\site-packages\\librosa\\core\\spectrum.py:222: UserWarning: n_fft=384 is too small for input signal of length=345\n",
      "  warnings.warn(\n",
      "D:\\MyApps\\anaconda3\\lib\\site-packages\\librosa\\core\\spectrum.py:222: UserWarning: n_fft=384 is too small for input signal of length=196\n",
      "  warnings.warn(\n"
     ]
    },
    {
     "name": "stdout",
     "output_type": "stream",
     "text": [
      "Making predictions.....:\n",
      "(4, 3)\n",
      "Extracting features for ..... :D:/PhD Program/Final Research/Carnatic Songs/Vocals/Kalyani/01-vanajAkSi_nine_kOri-VARNAM-kalyANi.mp3\n"
     ]
    },
    {
     "name": "stderr",
     "output_type": "stream",
     "text": [
      "D:\\MyApps\\anaconda3\\lib\\site-packages\\librosa\\core\\audio.py:165: UserWarning: PySoundFile failed. Trying audioread instead.\n",
      "  warnings.warn(\"PySoundFile failed. Trying audioread instead.\")\n",
      "D:\\MyApps\\anaconda3\\lib\\site-packages\\librosa\\core\\spectrum.py:222: UserWarning: n_fft=384 is too small for input signal of length=345\n",
      "  warnings.warn(\n",
      "D:\\MyApps\\anaconda3\\lib\\site-packages\\librosa\\core\\spectrum.py:222: UserWarning: n_fft=384 is too small for input signal of length=265\n",
      "  warnings.warn(\n"
     ]
    },
    {
     "name": "stdout",
     "output_type": "stream",
     "text": [
      "Making predictions.....:\n",
      "(4, 3)\n",
      "Extracting features for ..... :D:/PhD Program/Final Research/Carnatic Songs/Vocals/Kalyani/02-bhajarE_rE_citta_bAlAmbikAm-kalyANi.mp3\n"
     ]
    },
    {
     "name": "stderr",
     "output_type": "stream",
     "text": [
      "D:\\MyApps\\anaconda3\\lib\\site-packages\\librosa\\core\\audio.py:165: UserWarning: PySoundFile failed. Trying audioread instead.\n",
      "  warnings.warn(\"PySoundFile failed. Trying audioread instead.\")\n",
      "D:\\MyApps\\anaconda3\\lib\\site-packages\\librosa\\core\\spectrum.py:222: UserWarning: n_fft=384 is too small for input signal of length=345\n",
      "  warnings.warn(\n",
      "D:\\MyApps\\anaconda3\\lib\\site-packages\\librosa\\core\\spectrum.py:222: UserWarning: n_fft=384 is too small for input signal of length=159\n",
      "  warnings.warn(\n"
     ]
    },
    {
     "name": "stdout",
     "output_type": "stream",
     "text": [
      "Making predictions.....:\n",
      "(4, 3)\n",
      "Extracting features for ..... :D:/PhD Program/Final Research/Carnatic Songs/Vocals/Kalyani/02-himAdrisuthE-kalyAni-shyAmA_sAstri.mp3\n"
     ]
    },
    {
     "name": "stderr",
     "output_type": "stream",
     "text": [
      "D:\\MyApps\\anaconda3\\lib\\site-packages\\librosa\\core\\audio.py:165: UserWarning: PySoundFile failed. Trying audioread instead.\n",
      "  warnings.warn(\"PySoundFile failed. Trying audioread instead.\")\n",
      "D:\\MyApps\\anaconda3\\lib\\site-packages\\librosa\\core\\spectrum.py:222: UserWarning: n_fft=384 is too small for input signal of length=345\n",
      "  warnings.warn(\n",
      "D:\\MyApps\\anaconda3\\lib\\site-packages\\numpy\\core\\fromnumeric.py:3419: RuntimeWarning: Mean of empty slice.\n",
      "  return _methods._mean(a, axis=axis, dtype=dtype,\n",
      "D:\\MyApps\\anaconda3\\lib\\site-packages\\numpy\\core\\_methods.py:188: RuntimeWarning: invalid value encountered in double_scalars\n",
      "  ret = ret.dtype.type(ret / rcount)\n",
      "D:\\MyApps\\anaconda3\\lib\\site-packages\\librosa\\core\\spectrum.py:222: UserWarning: n_fft=384 is too small for input signal of length=343\n",
      "  warnings.warn(\n"
     ]
    },
    {
     "name": "stdout",
     "output_type": "stream",
     "text": [
      "Making predictions.....:\n",
      "(4, 3)\n",
      "Extracting features for ..... :D:/PhD Program/Final Research/Carnatic Songs/Vocals/Kalyani/02-nammi_vachina-kalyAni-thyAgarAjar.mp3\n"
     ]
    },
    {
     "name": "stderr",
     "output_type": "stream",
     "text": [
      "D:\\MyApps\\anaconda3\\lib\\site-packages\\librosa\\core\\audio.py:165: UserWarning: PySoundFile failed. Trying audioread instead.\n",
      "  warnings.warn(\"PySoundFile failed. Trying audioread instead.\")\n",
      "D:\\MyApps\\anaconda3\\lib\\site-packages\\librosa\\core\\spectrum.py:222: UserWarning: n_fft=384 is too small for input signal of length=345\n",
      "  warnings.warn(\n",
      "D:\\MyApps\\anaconda3\\lib\\site-packages\\librosa\\core\\spectrum.py:222: UserWarning: n_fft=384 is too small for input signal of length=320\n",
      "  warnings.warn(\n"
     ]
    },
    {
     "name": "stdout",
     "output_type": "stream",
     "text": [
      "Making predictions.....:\n",
      "(4, 3)\n",
      "Extracting features for ..... :D:/PhD Program/Final Research/Carnatic Songs/Vocals/Kalyani/02-rAvE_parvata_rAjakumAri-kalyANi.mp3\n"
     ]
    },
    {
     "name": "stderr",
     "output_type": "stream",
     "text": [
      "D:\\MyApps\\anaconda3\\lib\\site-packages\\librosa\\core\\audio.py:165: UserWarning: PySoundFile failed. Trying audioread instead.\n",
      "  warnings.warn(\"PySoundFile failed. Trying audioread instead.\")\n",
      "D:\\MyApps\\anaconda3\\lib\\site-packages\\librosa\\core\\spectrum.py:222: UserWarning: n_fft=384 is too small for input signal of length=345\n",
      "  warnings.warn(\n",
      "D:\\MyApps\\anaconda3\\lib\\site-packages\\librosa\\core\\spectrum.py:222: UserWarning: n_fft=384 is too small for input signal of length=17\n",
      "  warnings.warn(\n",
      "D:\\MyApps\\anaconda3\\lib\\site-packages\\numpy\\core\\fromnumeric.py:3419: RuntimeWarning: Mean of empty slice.\n",
      "  return _methods._mean(a, axis=axis, dtype=dtype,\n",
      "D:\\MyApps\\anaconda3\\lib\\site-packages\\numpy\\core\\_methods.py:188: RuntimeWarning: invalid value encountered in double_scalars\n",
      "  ret = ret.dtype.type(ret / rcount)\n"
     ]
    },
    {
     "name": "stdout",
     "output_type": "stream",
     "text": [
      "Making predictions.....:\n",
      "(4, 3)\n",
      "Getting songs of raga : Kedaragaula\n",
      "Extracting features for ..... :D:/PhD Program/Final Research/Carnatic Songs/Vocals/Kedaragaula/01-abhayAmbikayAha_anyam-kEdAragauLa-m_dIkshitar.mp3\n"
     ]
    },
    {
     "name": "stderr",
     "output_type": "stream",
     "text": [
      "D:\\MyApps\\anaconda3\\lib\\site-packages\\librosa\\core\\audio.py:165: UserWarning: PySoundFile failed. Trying audioread instead.\n",
      "  warnings.warn(\"PySoundFile failed. Trying audioread instead.\")\n",
      "D:\\MyApps\\anaconda3\\lib\\site-packages\\librosa\\core\\spectrum.py:222: UserWarning: n_fft=384 is too small for input signal of length=345\n",
      "  warnings.warn(\n",
      "D:\\MyApps\\anaconda3\\lib\\site-packages\\numpy\\core\\fromnumeric.py:3419: RuntimeWarning: Mean of empty slice.\n",
      "  return _methods._mean(a, axis=axis, dtype=dtype,\n",
      "D:\\MyApps\\anaconda3\\lib\\site-packages\\numpy\\core\\_methods.py:188: RuntimeWarning: invalid value encountered in double_scalars\n",
      "  ret = ret.dtype.type(ret / rcount)\n",
      "D:\\MyApps\\anaconda3\\lib\\site-packages\\librosa\\core\\spectrum.py:222: UserWarning: n_fft=384 is too small for input signal of length=183\n",
      "  warnings.warn(\n"
     ]
    },
    {
     "name": "stdout",
     "output_type": "stream",
     "text": [
      "Making predictions.....:\n",
      "(4, 3)\n",
      "Extracting features for ..... :D:/PhD Program/Final Research/Carnatic Songs/Vocals/Kedaragaula/01-jalajanAbha_mAmava-kEdAragauLa-swAtitirunAL.mp3\n"
     ]
    },
    {
     "name": "stderr",
     "output_type": "stream",
     "text": [
      "D:\\MyApps\\anaconda3\\lib\\site-packages\\librosa\\core\\audio.py:165: UserWarning: PySoundFile failed. Trying audioread instead.\n",
      "  warnings.warn(\"PySoundFile failed. Trying audioread instead.\")\n",
      "D:\\MyApps\\anaconda3\\lib\\site-packages\\librosa\\core\\spectrum.py:222: UserWarning: n_fft=384 is too small for input signal of length=345\n",
      "  warnings.warn(\n",
      "D:\\MyApps\\anaconda3\\lib\\site-packages\\numpy\\core\\fromnumeric.py:3419: RuntimeWarning: Mean of empty slice.\n",
      "  return _methods._mean(a, axis=axis, dtype=dtype,\n",
      "D:\\MyApps\\anaconda3\\lib\\site-packages\\numpy\\core\\_methods.py:188: RuntimeWarning: invalid value encountered in double_scalars\n",
      "  ret = ret.dtype.type(ret / rcount)\n",
      "D:\\MyApps\\anaconda3\\lib\\site-packages\\librosa\\core\\spectrum.py:222: UserWarning: n_fft=384 is too small for input signal of length=181\n",
      "  warnings.warn(\n"
     ]
    },
    {
     "name": "stdout",
     "output_type": "stream",
     "text": [
      "Making predictions.....:\n",
      "(4, 3)\n",
      "Extracting features for ..... :D:/PhD Program/Final Research/Carnatic Songs/Vocals/Kedaragaula/01-parAkEla_nannu_paripAlimpa-kEdAragauLa.mp3\n"
     ]
    },
    {
     "name": "stderr",
     "output_type": "stream",
     "text": [
      "D:\\MyApps\\anaconda3\\lib\\site-packages\\librosa\\core\\audio.py:165: UserWarning: PySoundFile failed. Trying audioread instead.\n",
      "  warnings.warn(\"PySoundFile failed. Trying audioread instead.\")\n",
      "D:\\MyApps\\anaconda3\\lib\\site-packages\\librosa\\core\\spectrum.py:222: UserWarning: n_fft=384 is too small for input signal of length=345\n",
      "  warnings.warn(\n",
      "D:\\MyApps\\anaconda3\\lib\\site-packages\\librosa\\core\\spectrum.py:222: UserWarning: n_fft=384 is too small for input signal of length=215\n",
      "  warnings.warn(\n"
     ]
    },
    {
     "name": "stdout",
     "output_type": "stream",
     "text": [
      "Making predictions.....:\n",
      "(4, 3)\n",
      "Extracting features for ..... :D:/PhD Program/Final Research/Carnatic Songs/Vocals/Kedaragaula/01-sAmi_daya_jooDa-VARNAM-kEdAragauLa.mp3\n"
     ]
    },
    {
     "name": "stderr",
     "output_type": "stream",
     "text": [
      "D:\\MyApps\\anaconda3\\lib\\site-packages\\librosa\\core\\audio.py:165: UserWarning: PySoundFile failed. Trying audioread instead.\n",
      "  warnings.warn(\"PySoundFile failed. Trying audioread instead.\")\n",
      "D:\\MyApps\\anaconda3\\lib\\site-packages\\librosa\\core\\spectrum.py:222: UserWarning: n_fft=384 is too small for input signal of length=345\n",
      "  warnings.warn(\n",
      "D:\\MyApps\\anaconda3\\lib\\site-packages\\librosa\\core\\spectrum.py:222: UserWarning: n_fft=384 is too small for input signal of length=21\n",
      "  warnings.warn(\n",
      "D:\\MyApps\\anaconda3\\lib\\site-packages\\numpy\\core\\fromnumeric.py:3419: RuntimeWarning: Mean of empty slice.\n",
      "  return _methods._mean(a, axis=axis, dtype=dtype,\n",
      "D:\\MyApps\\anaconda3\\lib\\site-packages\\numpy\\core\\_methods.py:188: RuntimeWarning: invalid value encountered in double_scalars\n",
      "  ret = ret.dtype.type(ret / rcount)\n"
     ]
    },
    {
     "name": "stdout",
     "output_type": "stream",
     "text": [
      "Making predictions.....:\n",
      "(4, 3)\n",
      "Extracting features for ..... :D:/PhD Program/Final Research/Carnatic Songs/Vocals/Kedaragaula/02-nIlakaNTham_bhajEham-kEdAragauLa-m.dikshitar.mp3\n"
     ]
    },
    {
     "name": "stderr",
     "output_type": "stream",
     "text": [
      "D:\\MyApps\\anaconda3\\lib\\site-packages\\librosa\\core\\audio.py:165: UserWarning: PySoundFile failed. Trying audioread instead.\n",
      "  warnings.warn(\"PySoundFile failed. Trying audioread instead.\")\n",
      "D:\\MyApps\\anaconda3\\lib\\site-packages\\librosa\\core\\spectrum.py:222: UserWarning: n_fft=384 is too small for input signal of length=345\n",
      "  warnings.warn(\n",
      "D:\\MyApps\\anaconda3\\lib\\site-packages\\numpy\\core\\fromnumeric.py:3419: RuntimeWarning: Mean of empty slice.\n",
      "  return _methods._mean(a, axis=axis, dtype=dtype,\n",
      "D:\\MyApps\\anaconda3\\lib\\site-packages\\numpy\\core\\_methods.py:188: RuntimeWarning: invalid value encountered in double_scalars\n",
      "  ret = ret.dtype.type(ret / rcount)\n",
      "D:\\MyApps\\anaconda3\\lib\\site-packages\\librosa\\core\\spectrum.py:222: UserWarning: n_fft=384 is too small for input signal of length=259\n",
      "  warnings.warn(\n"
     ]
    },
    {
     "name": "stdout",
     "output_type": "stream",
     "text": [
      "Making predictions.....:\n",
      "(4, 3)\n",
      "Extracting features for ..... :D:/PhD Program/Final Research/Carnatic Songs/Vocals/Kedaragaula/02-nIlotpalAmbikAyai_namastE-kEdAragauLa.mp3\n"
     ]
    },
    {
     "name": "stderr",
     "output_type": "stream",
     "text": [
      "D:\\MyApps\\anaconda3\\lib\\site-packages\\librosa\\core\\audio.py:165: UserWarning: PySoundFile failed. Trying audioread instead.\n",
      "  warnings.warn(\"PySoundFile failed. Trying audioread instead.\")\n",
      "D:\\MyApps\\anaconda3\\lib\\site-packages\\librosa\\core\\spectrum.py:222: UserWarning: n_fft=384 is too small for input signal of length=345\n",
      "  warnings.warn(\n",
      "D:\\MyApps\\anaconda3\\lib\\site-packages\\numpy\\core\\fromnumeric.py:3419: RuntimeWarning: Mean of empty slice.\n",
      "  return _methods._mean(a, axis=axis, dtype=dtype,\n",
      "D:\\MyApps\\anaconda3\\lib\\site-packages\\numpy\\core\\_methods.py:188: RuntimeWarning: invalid value encountered in double_scalars\n",
      "  ret = ret.dtype.type(ret / rcount)\n",
      "D:\\MyApps\\anaconda3\\lib\\site-packages\\librosa\\core\\spectrum.py:222: UserWarning: n_fft=384 is too small for input signal of length=185\n",
      "  warnings.warn(\n"
     ]
    },
    {
     "name": "stdout",
     "output_type": "stream",
     "text": [
      "Making predictions.....:\n",
      "(4, 3)\n",
      "Getting songs of raga : Khamboji\n",
      "Extracting features for ..... :D:/PhD Program/Final Research/Carnatic Songs/Vocals/Khamboji/01-dEvi_ni_padha-kAmbhoji-shyAmA_sAstri.mp3\n"
     ]
    },
    {
     "name": "stderr",
     "output_type": "stream",
     "text": [
      "D:\\MyApps\\anaconda3\\lib\\site-packages\\librosa\\core\\audio.py:165: UserWarning: PySoundFile failed. Trying audioread instead.\n",
      "  warnings.warn(\"PySoundFile failed. Trying audioread instead.\")\n",
      "D:\\MyApps\\anaconda3\\lib\\site-packages\\librosa\\core\\spectrum.py:222: UserWarning: n_fft=384 is too small for input signal of length=345\n",
      "  warnings.warn(\n",
      "D:\\MyApps\\anaconda3\\lib\\site-packages\\librosa\\core\\spectrum.py:222: UserWarning: n_fft=384 is too small for input signal of length=175\n",
      "  warnings.warn(\n",
      "D:\\MyApps\\anaconda3\\lib\\site-packages\\numpy\\core\\fromnumeric.py:3419: RuntimeWarning: Mean of empty slice.\n",
      "  return _methods._mean(a, axis=axis, dtype=dtype,\n",
      "D:\\MyApps\\anaconda3\\lib\\site-packages\\numpy\\core\\_methods.py:188: RuntimeWarning: invalid value encountered in double_scalars\n",
      "  ret = ret.dtype.type(ret / rcount)\n"
     ]
    },
    {
     "name": "stdout",
     "output_type": "stream",
     "text": [
      "Making predictions.....:\n",
      "(4, 3)\n",
      "Extracting features for ..... :D:/PhD Program/Final Research/Carnatic Songs/Vocals/Khamboji/01-pankajAkhipai-VARNAM-kAmbOji.mp3\n"
     ]
    },
    {
     "name": "stderr",
     "output_type": "stream",
     "text": [
      "D:\\MyApps\\anaconda3\\lib\\site-packages\\librosa\\core\\audio.py:165: UserWarning: PySoundFile failed. Trying audioread instead.\n",
      "  warnings.warn(\"PySoundFile failed. Trying audioread instead.\")\n",
      "D:\\MyApps\\anaconda3\\lib\\site-packages\\librosa\\core\\spectrum.py:222: UserWarning: n_fft=384 is too small for input signal of length=345\n",
      "  warnings.warn(\n",
      "D:\\MyApps\\anaconda3\\lib\\site-packages\\numpy\\core\\fromnumeric.py:3419: RuntimeWarning: Mean of empty slice.\n",
      "  return _methods._mean(a, axis=axis, dtype=dtype,\n",
      "D:\\MyApps\\anaconda3\\lib\\site-packages\\numpy\\core\\_methods.py:188: RuntimeWarning: invalid value encountered in double_scalars\n",
      "  ret = ret.dtype.type(ret / rcount)\n",
      "D:\\MyApps\\anaconda3\\lib\\site-packages\\librosa\\core\\spectrum.py:222: UserWarning: n_fft=384 is too small for input signal of length=264\n",
      "  warnings.warn(\n"
     ]
    },
    {
     "name": "stdout",
     "output_type": "stream",
     "text": [
      "Making predictions.....:\n",
      "(4, 3)\n",
      "Extracting features for ..... :D:/PhD Program/Final Research/Carnatic Songs/Vocals/Khamboji/02-sarasijanAba_VARNAM-kAmbOji-ponnaiah_pillai.mp3\n"
     ]
    },
    {
     "name": "stderr",
     "output_type": "stream",
     "text": [
      "D:\\MyApps\\anaconda3\\lib\\site-packages\\librosa\\core\\audio.py:165: UserWarning: PySoundFile failed. Trying audioread instead.\n",
      "  warnings.warn(\"PySoundFile failed. Trying audioread instead.\")\n",
      "D:\\MyApps\\anaconda3\\lib\\site-packages\\librosa\\core\\spectrum.py:222: UserWarning: n_fft=384 is too small for input signal of length=345\n",
      "  warnings.warn(\n",
      "D:\\MyApps\\anaconda3\\lib\\site-packages\\librosa\\core\\spectrum.py:222: UserWarning: n_fft=384 is too small for input signal of length=140\n",
      "  warnings.warn(\n",
      "D:\\MyApps\\anaconda3\\lib\\site-packages\\numpy\\core\\fromnumeric.py:3419: RuntimeWarning: Mean of empty slice.\n",
      "  return _methods._mean(a, axis=axis, dtype=dtype,\n",
      "D:\\MyApps\\anaconda3\\lib\\site-packages\\numpy\\core\\_methods.py:188: RuntimeWarning: invalid value encountered in double_scalars\n",
      "  ret = ret.dtype.type(ret / rcount)\n"
     ]
    },
    {
     "name": "stdout",
     "output_type": "stream",
     "text": [
      "Making predictions.....:\n",
      "(4, 3)\n",
      "Extracting features for ..... :D:/PhD Program/Final Research/Carnatic Songs/Vocals/Khamboji/03-evari_mATa_vinnAvO_rAvO-kAmbOji.mp3\n"
     ]
    },
    {
     "name": "stderr",
     "output_type": "stream",
     "text": [
      "D:\\MyApps\\anaconda3\\lib\\site-packages\\librosa\\core\\audio.py:165: UserWarning: PySoundFile failed. Trying audioread instead.\n",
      "  warnings.warn(\"PySoundFile failed. Trying audioread instead.\")\n",
      "D:\\MyApps\\anaconda3\\lib\\site-packages\\librosa\\core\\spectrum.py:222: UserWarning: n_fft=384 is too small for input signal of length=345\n",
      "  warnings.warn(\n",
      "D:\\MyApps\\anaconda3\\lib\\site-packages\\librosa\\core\\spectrum.py:222: UserWarning: n_fft=384 is too small for input signal of length=185\n",
      "  warnings.warn(\n"
     ]
    },
    {
     "name": "stdout",
     "output_type": "stream",
     "text": [
      "Making predictions.....:\n",
      "(4, 3)\n",
      "Extracting features for ..... :D:/PhD Program/Final Research/Carnatic Songs/Vocals/Khamboji/03-kailAsa_nAthEna_samrakSitOham-kAmbOji.mp3\n"
     ]
    },
    {
     "name": "stderr",
     "output_type": "stream",
     "text": [
      "D:\\MyApps\\anaconda3\\lib\\site-packages\\librosa\\core\\audio.py:165: UserWarning: PySoundFile failed. Trying audioread instead.\n",
      "  warnings.warn(\"PySoundFile failed. Trying audioread instead.\")\n",
      "D:\\MyApps\\anaconda3\\lib\\site-packages\\librosa\\core\\spectrum.py:222: UserWarning: n_fft=384 is too small for input signal of length=345\n",
      "  warnings.warn(\n",
      "D:\\MyApps\\anaconda3\\lib\\site-packages\\librosa\\core\\spectrum.py:222: UserWarning: n_fft=384 is too small for input signal of length=44\n",
      "  warnings.warn(\n"
     ]
    },
    {
     "name": "stdout",
     "output_type": "stream",
     "text": [
      "Making predictions.....:\n",
      "(4, 3)\n",
      "Extracting features for ..... :D:/PhD Program/Final Research/Carnatic Songs/Vocals/Khamboji/1._Sarasija_(Varnam)___Kaambodhi.mp3\n"
     ]
    },
    {
     "name": "stderr",
     "output_type": "stream",
     "text": [
      "D:\\MyApps\\anaconda3\\lib\\site-packages\\librosa\\core\\audio.py:165: UserWarning: PySoundFile failed. Trying audioread instead.\n",
      "  warnings.warn(\"PySoundFile failed. Trying audioread instead.\")\n",
      "D:\\MyApps\\anaconda3\\lib\\site-packages\\librosa\\core\\spectrum.py:222: UserWarning: n_fft=384 is too small for input signal of length=345\n",
      "  warnings.warn(\n",
      "D:\\MyApps\\anaconda3\\lib\\site-packages\\librosa\\core\\spectrum.py:222: UserWarning: n_fft=384 is too small for input signal of length=177\n",
      "  warnings.warn(\n"
     ]
    },
    {
     "name": "stdout",
     "output_type": "stream",
     "text": [
      "Making predictions.....:\n",
      "(4, 3)\n",
      "Getting songs of raga : Mohanam\n",
      "Extracting features for ..... :D:/PhD Program/Final Research/Carnatic Songs/Vocals/Mohanam/01-manamOhanA_mAnini_nIpai-VARNAM-mOhanam.mp3\n"
     ]
    },
    {
     "name": "stderr",
     "output_type": "stream",
     "text": [
      "D:\\MyApps\\anaconda3\\lib\\site-packages\\librosa\\core\\audio.py:165: UserWarning: PySoundFile failed. Trying audioread instead.\n",
      "  warnings.warn(\"PySoundFile failed. Trying audioread instead.\")\n",
      "D:\\MyApps\\anaconda3\\lib\\site-packages\\librosa\\core\\spectrum.py:222: UserWarning: n_fft=384 is too small for input signal of length=345\n",
      "  warnings.warn(\n",
      "D:\\MyApps\\anaconda3\\lib\\site-packages\\librosa\\core\\spectrum.py:222: UserWarning: n_fft=384 is too small for input signal of length=92\n",
      "  warnings.warn(\n",
      "D:\\MyApps\\anaconda3\\lib\\site-packages\\numpy\\core\\fromnumeric.py:3419: RuntimeWarning: Mean of empty slice.\n",
      "  return _methods._mean(a, axis=axis, dtype=dtype,\n",
      "D:\\MyApps\\anaconda3\\lib\\site-packages\\numpy\\core\\_methods.py:188: RuntimeWarning: invalid value encountered in double_scalars\n",
      "  ret = ret.dtype.type(ret / rcount)\n"
     ]
    },
    {
     "name": "stdout",
     "output_type": "stream",
     "text": [
      "Making predictions.....:\n",
      "(4, 3)\n",
      "Extracting features for ..... :D:/PhD Program/Final Research/Carnatic Songs/Vocals/Mohanam/01-ninnu_kOriyunnAnurA-VARNAM-mOhanam.mp3\n"
     ]
    },
    {
     "name": "stderr",
     "output_type": "stream",
     "text": [
      "D:\\MyApps\\anaconda3\\lib\\site-packages\\librosa\\core\\audio.py:165: UserWarning: PySoundFile failed. Trying audioread instead.\n",
      "  warnings.warn(\"PySoundFile failed. Trying audioread instead.\")\n",
      "D:\\MyApps\\anaconda3\\lib\\site-packages\\librosa\\core\\spectrum.py:222: UserWarning: n_fft=384 is too small for input signal of length=345\n",
      "  warnings.warn(\n",
      "D:\\MyApps\\anaconda3\\lib\\site-packages\\librosa\\core\\spectrum.py:222: UserWarning: n_fft=384 is too small for input signal of length=78\n",
      "  warnings.warn(\n"
     ]
    },
    {
     "name": "stdout",
     "output_type": "stream",
     "text": [
      "Making predictions.....:\n",
      "(4, 3)\n",
      "Extracting features for ..... :D:/PhD Program/Final Research/Carnatic Songs/Vocals/Mohanam/01-rakta_gaNapatim_bhajEham-mOhanam.mp3\n"
     ]
    },
    {
     "name": "stderr",
     "output_type": "stream",
     "text": [
      "D:\\MyApps\\anaconda3\\lib\\site-packages\\librosa\\core\\audio.py:165: UserWarning: PySoundFile failed. Trying audioread instead.\n",
      "  warnings.warn(\"PySoundFile failed. Trying audioread instead.\")\n",
      "D:\\MyApps\\anaconda3\\lib\\site-packages\\librosa\\core\\spectrum.py:222: UserWarning: n_fft=384 is too small for input signal of length=345\n",
      "  warnings.warn(\n",
      "D:\\MyApps\\anaconda3\\lib\\site-packages\\librosa\\core\\spectrum.py:222: UserWarning: n_fft=384 is too small for input signal of length=283\n",
      "  warnings.warn(\n"
     ]
    },
    {
     "name": "stdout",
     "output_type": "stream",
     "text": [
      "Making predictions.....:\n",
      "(4, 3)\n",
      "Extracting features for ..... :D:/PhD Program/Final Research/Carnatic Songs/Vocals/Mohanam/01-rAmA_ninnu_nammina_vAramu-mOhanam.mp3\n"
     ]
    },
    {
     "name": "stderr",
     "output_type": "stream",
     "text": [
      "D:\\MyApps\\anaconda3\\lib\\site-packages\\librosa\\core\\audio.py:165: UserWarning: PySoundFile failed. Trying audioread instead.\n",
      "  warnings.warn(\"PySoundFile failed. Trying audioread instead.\")\n",
      "D:\\MyApps\\anaconda3\\lib\\site-packages\\librosa\\core\\spectrum.py:222: UserWarning: n_fft=384 is too small for input signal of length=345\n",
      "  warnings.warn(\n",
      "D:\\MyApps\\anaconda3\\lib\\site-packages\\numpy\\core\\fromnumeric.py:3419: RuntimeWarning: Mean of empty slice.\n",
      "  return _methods._mean(a, axis=axis, dtype=dtype,\n",
      "D:\\MyApps\\anaconda3\\lib\\site-packages\\numpy\\core\\_methods.py:188: RuntimeWarning: invalid value encountered in double_scalars\n",
      "  ret = ret.dtype.type(ret / rcount)\n",
      "D:\\MyApps\\anaconda3\\lib\\site-packages\\librosa\\core\\spectrum.py:222: UserWarning: n_fft=384 is too small for input signal of length=110\n",
      "  warnings.warn(\n"
     ]
    },
    {
     "name": "stdout",
     "output_type": "stream",
     "text": [
      "Making predictions.....:\n",
      "(4, 3)\n",
      "Extracting features for ..... :D:/PhD Program/Final Research/Carnatic Songs/Vocals/Mohanam/02-En_paLLI_koNDIrayya-mOhanam.mp3\n"
     ]
    },
    {
     "name": "stderr",
     "output_type": "stream",
     "text": [
      "D:\\MyApps\\anaconda3\\lib\\site-packages\\librosa\\core\\audio.py:165: UserWarning: PySoundFile failed. Trying audioread instead.\n",
      "  warnings.warn(\"PySoundFile failed. Trying audioread instead.\")\n",
      "D:\\MyApps\\anaconda3\\lib\\site-packages\\librosa\\core\\spectrum.py:222: UserWarning: n_fft=384 is too small for input signal of length=345\n",
      "  warnings.warn(\n",
      "D:\\MyApps\\anaconda3\\lib\\site-packages\\numpy\\core\\fromnumeric.py:3419: RuntimeWarning: Mean of empty slice.\n",
      "  return _methods._mean(a, axis=axis, dtype=dtype,\n",
      "D:\\MyApps\\anaconda3\\lib\\site-packages\\numpy\\core\\_methods.py:188: RuntimeWarning: invalid value encountered in double_scalars\n",
      "  ret = ret.dtype.type(ret / rcount)\n",
      "D:\\MyApps\\anaconda3\\lib\\site-packages\\librosa\\core\\spectrum.py:222: UserWarning: n_fft=384 is too small for input signal of length=75\n",
      "  warnings.warn(\n"
     ]
    },
    {
     "name": "stdout",
     "output_type": "stream",
     "text": [
      "Making predictions.....:\n",
      "(4, 3)\n",
      "Extracting features for ..... :D:/PhD Program/Final Research/Carnatic Songs/Vocals/Mohanam/03-dhayarAni-mohanam-thyAgarAjar.mp3\n"
     ]
    },
    {
     "name": "stderr",
     "output_type": "stream",
     "text": [
      "D:\\MyApps\\anaconda3\\lib\\site-packages\\librosa\\core\\audio.py:165: UserWarning: PySoundFile failed. Trying audioread instead.\n",
      "  warnings.warn(\"PySoundFile failed. Trying audioread instead.\")\n",
      "D:\\MyApps\\anaconda3\\lib\\site-packages\\librosa\\core\\spectrum.py:222: UserWarning: n_fft=384 is too small for input signal of length=345\n",
      "  warnings.warn(\n",
      "D:\\MyApps\\anaconda3\\lib\\site-packages\\librosa\\core\\spectrum.py:222: UserWarning: n_fft=384 is too small for input signal of length=106\n",
      "  warnings.warn(\n",
      "D:\\MyApps\\anaconda3\\lib\\site-packages\\numpy\\core\\fromnumeric.py:3419: RuntimeWarning: Mean of empty slice.\n",
      "  return _methods._mean(a, axis=axis, dtype=dtype,\n",
      "D:\\MyApps\\anaconda3\\lib\\site-packages\\numpy\\core\\_methods.py:188: RuntimeWarning: invalid value encountered in double_scalars\n",
      "  ret = ret.dtype.type(ret / rcount)\n"
     ]
    },
    {
     "name": "stdout",
     "output_type": "stream",
     "text": [
      "Making predictions.....:\n",
      "(4, 3)\n",
      "Getting songs of raga : Shankarabharanam\n",
      "Extracting features for ..... :D:/PhD Program/Final Research/Carnatic Songs/Vocals/Shankarabharanam/02-sarOja_daLa_nEtri_himagiri-shankarAbharaNam.mp3\n"
     ]
    },
    {
     "name": "stderr",
     "output_type": "stream",
     "text": [
      "D:\\MyApps\\anaconda3\\lib\\site-packages\\librosa\\core\\audio.py:165: UserWarning: PySoundFile failed. Trying audioread instead.\n",
      "  warnings.warn(\"PySoundFile failed. Trying audioread instead.\")\n",
      "D:\\MyApps\\anaconda3\\lib\\site-packages\\librosa\\core\\spectrum.py:222: UserWarning: n_fft=384 is too small for input signal of length=345\n",
      "  warnings.warn(\n",
      "D:\\MyApps\\anaconda3\\lib\\site-packages\\librosa\\core\\spectrum.py:222: UserWarning: n_fft=384 is too small for input signal of length=54\n",
      "  warnings.warn(\n"
     ]
    },
    {
     "name": "stdout",
     "output_type": "stream",
     "text": [
      "Making predictions.....:\n",
      "(4, 3)\n",
      "Extracting features for ..... :D:/PhD Program/Final Research/Carnatic Songs/Vocals/Shankarabharanam/03-akSaya_linga_vibhO-shankarAbharaNam.MP3\n"
     ]
    },
    {
     "name": "stderr",
     "output_type": "stream",
     "text": [
      "D:\\MyApps\\anaconda3\\lib\\site-packages\\librosa\\core\\audio.py:165: UserWarning: PySoundFile failed. Trying audioread instead.\n",
      "  warnings.warn(\"PySoundFile failed. Trying audioread instead.\")\n",
      "D:\\MyApps\\anaconda3\\lib\\site-packages\\librosa\\core\\spectrum.py:222: UserWarning: n_fft=384 is too small for input signal of length=345\n",
      "  warnings.warn(\n",
      "D:\\MyApps\\anaconda3\\lib\\site-packages\\librosa\\core\\spectrum.py:222: UserWarning: n_fft=384 is too small for input signal of length=69\n",
      "  warnings.warn(\n"
     ]
    },
    {
     "name": "stdout",
     "output_type": "stream",
     "text": [
      "Making predictions.....:\n",
      "(4, 3)\n",
      "Extracting features for ..... :D:/PhD Program/Final Research/Carnatic Songs/Vocals/Shankarabharanam/03-buddhi_rAdu_buddhi_rAdu-shankarAbharaNam.mp3\n"
     ]
    },
    {
     "name": "stderr",
     "output_type": "stream",
     "text": [
      "D:\\MyApps\\anaconda3\\lib\\site-packages\\librosa\\core\\audio.py:165: UserWarning: PySoundFile failed. Trying audioread instead.\n",
      "  warnings.warn(\"PySoundFile failed. Trying audioread instead.\")\n",
      "D:\\MyApps\\anaconda3\\lib\\site-packages\\librosa\\core\\spectrum.py:222: UserWarning: n_fft=384 is too small for input signal of length=345\n",
      "  warnings.warn(\n",
      "D:\\MyApps\\anaconda3\\lib\\site-packages\\librosa\\core\\spectrum.py:222: UserWarning: n_fft=384 is too small for input signal of length=118\n",
      "  warnings.warn(\n"
     ]
    },
    {
     "name": "stdout",
     "output_type": "stream",
     "text": [
      "Making predictions.....:\n",
      "(4, 3)\n",
      "Extracting features for ..... :D:/PhD Program/Final Research/Carnatic Songs/Vocals/Shankarabharanam/03-eduTa_nilacitE_nIdu-shankarAbharaNam.mp3\n"
     ]
    },
    {
     "name": "stderr",
     "output_type": "stream",
     "text": [
      "D:\\MyApps\\anaconda3\\lib\\site-packages\\librosa\\core\\audio.py:165: UserWarning: PySoundFile failed. Trying audioread instead.\n",
      "  warnings.warn(\"PySoundFile failed. Trying audioread instead.\")\n",
      "D:\\MyApps\\anaconda3\\lib\\site-packages\\librosa\\core\\spectrum.py:222: UserWarning: n_fft=384 is too small for input signal of length=345\n",
      "  warnings.warn(\n",
      "D:\\MyApps\\anaconda3\\lib\\site-packages\\numpy\\core\\fromnumeric.py:3419: RuntimeWarning: Mean of empty slice.\n",
      "  return _methods._mean(a, axis=axis, dtype=dtype,\n",
      "D:\\MyApps\\anaconda3\\lib\\site-packages\\numpy\\core\\_methods.py:188: RuntimeWarning: invalid value encountered in double_scalars\n",
      "  ret = ret.dtype.type(ret / rcount)\n",
      "D:\\MyApps\\anaconda3\\lib\\site-packages\\librosa\\core\\spectrum.py:222: UserWarning: n_fft=384 is too small for input signal of length=307\n",
      "  warnings.warn(\n"
     ]
    },
    {
     "name": "stdout",
     "output_type": "stream",
     "text": [
      "Making predictions.....:\n",
      "(4, 3)\n",
      "Extracting features for ..... :D:/PhD Program/Final Research/Carnatic Songs/Vocals/Shankarabharanam/03-sAmi_ninnE_kOri_varnam-shankarAbharaNam-vINai_kuppiyer.mp3\n"
     ]
    },
    {
     "name": "stderr",
     "output_type": "stream",
     "text": [
      "D:\\MyApps\\anaconda3\\lib\\site-packages\\librosa\\core\\audio.py:165: UserWarning: PySoundFile failed. Trying audioread instead.\n",
      "  warnings.warn(\"PySoundFile failed. Trying audioread instead.\")\n",
      "D:\\MyApps\\anaconda3\\lib\\site-packages\\librosa\\core\\spectrum.py:222: UserWarning: n_fft=384 is too small for input signal of length=345\n",
      "  warnings.warn(\n",
      "D:\\MyApps\\anaconda3\\lib\\site-packages\\librosa\\core\\spectrum.py:222: UserWarning: n_fft=384 is too small for input signal of length=169\n",
      "  warnings.warn(\n"
     ]
    },
    {
     "name": "stdout",
     "output_type": "stream",
     "text": [
      "Making predictions.....:\n",
      "(4, 3)\n",
      "Extracting features for ..... :D:/PhD Program/Final Research/Carnatic Songs/Vocals/Shankarabharanam/03-svara_rAga_sudhA_rasayuta-shankarAbharaNam.mp3\n"
     ]
    },
    {
     "name": "stderr",
     "output_type": "stream",
     "text": [
      "D:\\MyApps\\anaconda3\\lib\\site-packages\\librosa\\core\\audio.py:165: UserWarning: PySoundFile failed. Trying audioread instead.\n",
      "  warnings.warn(\"PySoundFile failed. Trying audioread instead.\")\n",
      "D:\\MyApps\\anaconda3\\lib\\site-packages\\librosa\\core\\spectrum.py:222: UserWarning: n_fft=384 is too small for input signal of length=345\n",
      "  warnings.warn(\n",
      "D:\\MyApps\\anaconda3\\lib\\site-packages\\numpy\\core\\fromnumeric.py:3419: RuntimeWarning: Mean of empty slice.\n",
      "  return _methods._mean(a, axis=axis, dtype=dtype,\n",
      "D:\\MyApps\\anaconda3\\lib\\site-packages\\numpy\\core\\_methods.py:188: RuntimeWarning: invalid value encountered in double_scalars\n",
      "  ret = ret.dtype.type(ret / rcount)\n",
      "D:\\MyApps\\anaconda3\\lib\\site-packages\\librosa\\core\\spectrum.py:222: UserWarning: n_fft=384 is too small for input signal of length=218\n",
      "  warnings.warn(\n"
     ]
    },
    {
     "name": "stdout",
     "output_type": "stream",
     "text": [
      "Making predictions.....:\n",
      "(4, 3)\n",
      "Getting songs of raga : Todi\n",
      "Extracting features for ..... :D:/PhD Program/Final Research/Carnatic Songs/Vocals/Todi/02-gathi_neevani-thodi-thyAgarAjar.mp3\n"
     ]
    },
    {
     "name": "stderr",
     "output_type": "stream",
     "text": [
      "D:\\MyApps\\anaconda3\\lib\\site-packages\\librosa\\core\\audio.py:165: UserWarning: PySoundFile failed. Trying audioread instead.\n",
      "  warnings.warn(\"PySoundFile failed. Trying audioread instead.\")\n",
      "D:\\MyApps\\anaconda3\\lib\\site-packages\\librosa\\core\\spectrum.py:222: UserWarning: n_fft=384 is too small for input signal of length=345\n",
      "  warnings.warn(\n",
      "D:\\MyApps\\anaconda3\\lib\\site-packages\\numpy\\core\\fromnumeric.py:3419: RuntimeWarning: Mean of empty slice.\n",
      "  return _methods._mean(a, axis=axis, dtype=dtype,\n",
      "D:\\MyApps\\anaconda3\\lib\\site-packages\\numpy\\core\\_methods.py:188: RuntimeWarning: invalid value encountered in double_scalars\n",
      "  ret = ret.dtype.type(ret / rcount)\n",
      "D:\\MyApps\\anaconda3\\lib\\site-packages\\librosa\\core\\spectrum.py:222: UserWarning: n_fft=384 is too small for input signal of length=134\n",
      "  warnings.warn(\n"
     ]
    },
    {
     "name": "stdout",
     "output_type": "stream",
     "text": [
      "Making predictions.....:\n",
      "(4, 3)\n",
      "Extracting features for ..... :D:/PhD Program/Final Research/Carnatic Songs/Vocals/Todi/02-gati_nIvani_nE_kOri-tODi.mp3\n"
     ]
    },
    {
     "name": "stderr",
     "output_type": "stream",
     "text": [
      "D:\\MyApps\\anaconda3\\lib\\site-packages\\librosa\\core\\audio.py:165: UserWarning: PySoundFile failed. Trying audioread instead.\n",
      "  warnings.warn(\"PySoundFile failed. Trying audioread instead.\")\n",
      "D:\\MyApps\\anaconda3\\lib\\site-packages\\librosa\\core\\spectrum.py:222: UserWarning: n_fft=384 is too small for input signal of length=345\n",
      "  warnings.warn(\n",
      "D:\\MyApps\\anaconda3\\lib\\site-packages\\librosa\\core\\spectrum.py:222: UserWarning: n_fft=384 is too small for input signal of length=87\n",
      "  warnings.warn(\n",
      "D:\\MyApps\\anaconda3\\lib\\site-packages\\numpy\\core\\fromnumeric.py:3419: RuntimeWarning: Mean of empty slice.\n",
      "  return _methods._mean(a, axis=axis, dtype=dtype,\n",
      "D:\\MyApps\\anaconda3\\lib\\site-packages\\numpy\\core\\_methods.py:188: RuntimeWarning: invalid value encountered in double_scalars\n",
      "  ret = ret.dtype.type(ret / rcount)\n"
     ]
    },
    {
     "name": "stdout",
     "output_type": "stream",
     "text": [
      "Making predictions.....:\n",
      "(4, 3)\n",
      "Extracting features for ..... :D:/PhD Program/Final Research/Carnatic Songs/Vocals/Todi/02-tAmadamEn_svAmi-tODi.mp3\n"
     ]
    },
    {
     "name": "stderr",
     "output_type": "stream",
     "text": [
      "D:\\MyApps\\anaconda3\\lib\\site-packages\\librosa\\core\\audio.py:165: UserWarning: PySoundFile failed. Trying audioread instead.\n",
      "  warnings.warn(\"PySoundFile failed. Trying audioread instead.\")\n",
      "D:\\MyApps\\anaconda3\\lib\\site-packages\\librosa\\core\\spectrum.py:222: UserWarning: n_fft=384 is too small for input signal of length=345\n",
      "  warnings.warn(\n",
      "D:\\MyApps\\anaconda3\\lib\\site-packages\\numpy\\core\\fromnumeric.py:3419: RuntimeWarning: Mean of empty slice.\n",
      "  return _methods._mean(a, axis=axis, dtype=dtype,\n",
      "D:\\MyApps\\anaconda3\\lib\\site-packages\\numpy\\core\\_methods.py:188: RuntimeWarning: invalid value encountered in double_scalars\n",
      "  ret = ret.dtype.type(ret / rcount)\n",
      "D:\\MyApps\\anaconda3\\lib\\site-packages\\librosa\\core\\spectrum.py:222: UserWarning: n_fft=384 is too small for input signal of length=109\n",
      "  warnings.warn(\n"
     ]
    },
    {
     "name": "stdout",
     "output_type": "stream",
     "text": [
      "Making predictions.....:\n",
      "(4, 3)\n",
      "Extracting features for ..... :D:/PhD Program/Final Research/Carnatic Songs/Vocals/Todi/03-bhArati_mAmava-tODi.mp3\n"
     ]
    },
    {
     "name": "stderr",
     "output_type": "stream",
     "text": [
      "D:\\MyApps\\anaconda3\\lib\\site-packages\\librosa\\core\\audio.py:165: UserWarning: PySoundFile failed. Trying audioread instead.\n",
      "  warnings.warn(\"PySoundFile failed. Trying audioread instead.\")\n",
      "D:\\MyApps\\anaconda3\\lib\\site-packages\\librosa\\core\\spectrum.py:222: UserWarning: n_fft=384 is too small for input signal of length=345\n",
      "  warnings.warn(\n",
      "D:\\MyApps\\anaconda3\\lib\\site-packages\\numpy\\core\\fromnumeric.py:3419: RuntimeWarning: Mean of empty slice.\n",
      "  return _methods._mean(a, axis=axis, dtype=dtype,\n",
      "D:\\MyApps\\anaconda3\\lib\\site-packages\\numpy\\core\\_methods.py:188: RuntimeWarning: invalid value encountered in double_scalars\n",
      "  ret = ret.dtype.type(ret / rcount)\n",
      "D:\\MyApps\\anaconda3\\lib\\site-packages\\librosa\\core\\spectrum.py:222: UserWarning: n_fft=384 is too small for input signal of length=157\n",
      "  warnings.warn(\n"
     ]
    },
    {
     "name": "stdout",
     "output_type": "stream",
     "text": [
      "Making predictions.....:\n",
      "(4, 3)\n",
      "Extracting features for ..... :D:/PhD Program/Final Research/Carnatic Songs/Vocals/Todi/03-sarasijanAbha_murArE-thodi-swAthi_thirunAl.mp3\n"
     ]
    },
    {
     "name": "stderr",
     "output_type": "stream",
     "text": [
      "D:\\MyApps\\anaconda3\\lib\\site-packages\\librosa\\core\\audio.py:165: UserWarning: PySoundFile failed. Trying audioread instead.\n",
      "  warnings.warn(\"PySoundFile failed. Trying audioread instead.\")\n",
      "D:\\MyApps\\anaconda3\\lib\\site-packages\\librosa\\core\\spectrum.py:222: UserWarning: n_fft=384 is too small for input signal of length=345\n",
      "  warnings.warn(\n",
      "D:\\MyApps\\anaconda3\\lib\\site-packages\\numpy\\core\\fromnumeric.py:3419: RuntimeWarning: Mean of empty slice.\n",
      "  return _methods._mean(a, axis=axis, dtype=dtype,\n",
      "D:\\MyApps\\anaconda3\\lib\\site-packages\\numpy\\core\\_methods.py:188: RuntimeWarning: invalid value encountered in double_scalars\n",
      "  ret = ret.dtype.type(ret / rcount)\n",
      "D:\\MyApps\\anaconda3\\lib\\site-packages\\librosa\\core\\spectrum.py:222: UserWarning: n_fft=384 is too small for input signal of length=74\n",
      "  warnings.warn(\n"
     ]
    },
    {
     "name": "stdout",
     "output_type": "stream",
     "text": [
      "Making predictions.....:\n",
      "(4, 3)\n",
      "Extracting features for ..... :D:/PhD Program/Final Research/Carnatic Songs/Vocals/Todi/04d-thAmadhamEn_swAmi-thodi.mp3\n"
     ]
    },
    {
     "name": "stderr",
     "output_type": "stream",
     "text": [
      "D:\\MyApps\\anaconda3\\lib\\site-packages\\librosa\\core\\audio.py:165: UserWarning: PySoundFile failed. Trying audioread instead.\n",
      "  warnings.warn(\"PySoundFile failed. Trying audioread instead.\")\n",
      "D:\\MyApps\\anaconda3\\lib\\site-packages\\librosa\\core\\spectrum.py:222: UserWarning: n_fft=384 is too small for input signal of length=345\n",
      "  warnings.warn(\n",
      "D:\\MyApps\\anaconda3\\lib\\site-packages\\librosa\\core\\spectrum.py:222: UserWarning: n_fft=384 is too small for input signal of length=91\n",
      "  warnings.warn(\n",
      "D:\\MyApps\\anaconda3\\lib\\site-packages\\numpy\\core\\fromnumeric.py:3419: RuntimeWarning: Mean of empty slice.\n",
      "  return _methods._mean(a, axis=axis, dtype=dtype,\n",
      "D:\\MyApps\\anaconda3\\lib\\site-packages\\numpy\\core\\_methods.py:188: RuntimeWarning: invalid value encountered in double_scalars\n",
      "  ret = ret.dtype.type(ret / rcount)\n"
     ]
    },
    {
     "name": "stdout",
     "output_type": "stream",
     "text": [
      "Making predictions.....:\n",
      "(4, 3)\n"
     ]
    }
   ],
   "source": [
    "songs_dir_root = \"D:/PhD Program/Final Research/Carnatic Songs/Vocals/\"\n",
    "raga_names = ['Mayamalavagaula','Bhairavi','Kalyani','Kedaragaula','Khamboji','Mohanam','Shankarabharanam','Todi']\n",
    "#songs_dir_root = \"D:/PhD Program/Final Research/Carnatic Songs/Vocals_sample/\"\n",
    "#raga_names = ['Mayamalavagaula','Bhairavi']\n",
    "# song_path = songs_dir_root+''.join(raga_names[0])+\"/01-dasharatha_nandana_disha-mAyAmALavagauLa.mp3\"\n",
    "# pred_df = getMER(song_path,'Mayamalavagowla')\n",
    "song_cntr = 1\n",
    "for raga_name in raga_names:\n",
    "    print(\"Getting songs of raga :\", raga_name)\n",
    "    songs_dir = songs_dir_root +raga_name+\"/\"\n",
    "    for root, dirs, files in os.walk(songs_dir):\n",
    "        for file_name in files:\n",
    "            song_path = songs_dir+file_name\n",
    "            try:\n",
    "                pred_df = getMER(song_path,raga_name, plots_needed='N')\n",
    "                print(pred_df.shape)\n",
    "            except Exception as e:\n",
    "                print(str(e))\n",
    "                print(\"Error processing song at the path:\" +str(song_path)+\" belonging to raga \"+raga_name)\n",
    "                continue\n",
    "            \n",
    "            raga_name_list = [ raga_name for j in range(0,pred_df.shape[1]+1)]\n",
    "            pred_df['raga'] = raga_name_list            \n",
    "            #print(pred_df)\n",
    "            if song_cntr==1:\n",
    "                final_df = pred_df\n",
    "            else:\n",
    "                final_df = pd.concat([final_df,pred_df],axis=0)\n",
    "            song_cntr +=1\n"
   ]
  },
  {
   "cell_type": "code",
   "execution_count": 7,
   "id": "bc0b5613",
   "metadata": {},
   "outputs": [],
   "source": [
    "final_df.to_csv(\"carnatic_raga_MER_dataset.csv\", index=False)"
   ]
  },
  {
   "cell_type": "code",
   "execution_count": null,
   "id": "6c0b67f7",
   "metadata": {},
   "outputs": [],
   "source": [
    "# # Extract Features from data set - DS 1: MER Audio Traffic dataset: split 1 mp3 file into multiple observations\n",
    "# # one observation = 5 second duration\n",
    "\n",
    "# songs_dir_root = \"D:/PhD Program/Phd - Data Science/Research Project/Carnatic Songs/Vocals/\"\n",
    "# raga_names = ['Mayamalavagaula','Bhairavi']\n",
    "# #raga_names = ['Mayamalavagaula','Bhairavi','Kalyani','Kedaragaula','Khamboji','Mohanam','Shankarabharanam','Todi']\n",
    "# # songs_path = songs_dir_root + ''.join(raga_names[0])\n",
    "# import os\n",
    "# os.chdir(songs_dir_root)\n",
    "\n",
    "# import pandas as pd\n",
    "# import Feature_Extraction_Util_V2 as util\n",
    "# import os\n",
    "\n",
    "# num_mfcc = 20\n",
    "# num_mel = 64\n",
    "# mel_cutoff_val = 0.01\n",
    "# hilbert_transform_val = \"N\"\n",
    "# MFCC_flag = \"Y\" \n",
    "# feature_file_name = \"Carnatic_ragas\"\n",
    "\n",
    "# feature_file_name = root_path+feature_file_name + \".csv\"\n",
    "# print(feature_file_name)\n",
    "\n",
    "# feat_util = util.Feature_Util()\n",
    "# file_cntr = 1\n",
    "# for raga_name in raga_names:\n",
    "#     songs_path = songs_dir_root + raga_name\n",
    "#     print(raga_name)\n",
    "#     for root, dirs, files in os.walk(songs_path):\n",
    "#         raga_file_cntr = 0\n",
    "#         for file_name in files:\n",
    "#             #print(file_name)\n",
    "#             #print(\"Temp counter: \" + str(temp_cntr))\n",
    "#             file_path = songs_path +\"/\" +file_name\n",
    "#             db_row = {'sound_file_name': [file_name],\n",
    "#                      'raga':[raga_name]}\n",
    "#             # read sound file\n",
    "#             ret_val, msg_val, full_signal_val, sr = feat_util.readSignal(file_path,hilbert_transform=hilbert_transform_val)\n",
    "\n",
    "#             sound_file_size = len(full_signal_val)/sr\n",
    "#             # 5 second window\n",
    "#             window_size_duration = 5*sr \n",
    "\n",
    "#             # start after 3 seconds\n",
    "#             start_pos = 3*sr \n",
    "#             slider_width = window_size_duration\n",
    "#             overlap_sample_size = sr\n",
    "#             end_pos = start_pos +  slider_width - overlap_sample_size\n",
    "#             exit_flag = False\n",
    "#             sample_cntr = 1\n",
    "#     #             print(len(full_signal_val))\n",
    "#     #             print(sr)\n",
    "#             while not exit_flag:\n",
    "#                 end_pos = start_pos +  slider_width - overlap_sample_size\n",
    "#                 if end_pos > len(full_signal_val):\n",
    "#                     end_pos = len(full_signal_val)\n",
    "#                     exit_flag = True    \n",
    "#                 # Extract a sample from the whole signal \n",
    "#                 signal_val = full_signal_val[start_pos:end_pos]\n",
    "#                 #print(\" Start: \" + str(start_pos)+\" , End: \"+str(end_pos))\n",
    "#                 start_pos = end_pos\n",
    "#                 # get features and aggregations\n",
    "#                 # F0\n",
    "#                 ret_val, msg_str, feature_val =  feat_util.getFZero(signal_val)\n",
    "#                 agg_val, msg_str = feat_util.calcAggregations(feature_val, feature_name=\"F0\",mean_agg = \"Y\", median_agg = \"Y\", max_agg = \"Y\", min_agg = \"Y\", IQR_agg = \"N\", sd_agg =\"N\")\n",
    "#                 db_row = db_row | agg_val\n",
    "\n",
    "#                 # RMS\n",
    "#                 ret_val,msg_str, feature_val =  feat_util.getRMS(signal_val)\n",
    "#                 agg_val, msg_str = feat_util.calcAggregations(feature_val, feature_name=\"RMS\",mean_agg = \"Y\", median_agg = \"Y\", max_agg = \"Y\", min_agg = \"N\", IQR_agg = \"N\", sd_agg =\"N\")\n",
    "#                 db_row = db_row | agg_val\n",
    "\n",
    "#                 # Spectral Centroid\n",
    "#                 ret_val,msg_str, feature_val =  feat_util.getSpectralCentroid(signal_val)\n",
    "#                 agg_val, msg_str = feat_util.calcAggregations(feature_val, feature_name=\"spect_centroid\")\n",
    "#                 db_row = db_row | agg_val\n",
    "\n",
    "#                 # Spectral Roll Off\n",
    "#                 ret_val,msg_str, feature_val =  feat_util.getSpectralRolloff(signal_val)\n",
    "#                 agg_val, msg_str = feat_util.calcAggregations(feature_val, feature_name=\"spect_rolloff\")\n",
    "#                 db_row = db_row | agg_val\n",
    "\n",
    "#                 # Spectral Flatness\n",
    "#                 ret_val,msg_str, feature_val =  feat_util.getSpectralFlatness(signal_val)\n",
    "#                 agg_val, msg_str = feat_util.calcAggregations(feature_val, feature_name=\"spect_flat\")\n",
    "#                 db_row = db_row | agg_val\n",
    "\n",
    "#                 # Spectral BW\n",
    "#                 ret_val,msg_str, feature_val =  feat_util.getSpectralBW(signal_val)\n",
    "#                 agg_val, msg_str = feat_util.calcAggregations(feature_val, feature_name=\"spect_bw\")\n",
    "#                 db_row = db_row | agg_val\n",
    "\n",
    "#                 # Spectral Contrast\n",
    "#                 ret_val,msg_str, feature_val =  feat_util.getSpectralContrast(signal_val)\n",
    "#                 agg_val, msg_str = feat_util.calcAggregations(feature_val, feature_name=\"spect_contrast\")\n",
    "#                 db_row = db_row | agg_val\n",
    "\n",
    "#                 # ZCR\n",
    "#                 ret_val,msg_str, feature_val =  feat_util.getZCR(signal_val)\n",
    "#                 agg_val, msg_str = feat_util.calcAggregations(feature_val, feature_name=\"ZCR\")\n",
    "#                 db_row = db_row | agg_val\n",
    "\n",
    "#                 # Beat / Tempo\n",
    "#                 ret_val,msg_str, feature_val =  feat_util.getTempo(signal_val, sr)\n",
    "#                 agg_val, msg_str = feat_util.calcAggregations(feature_val, feature_name=\"tempo\")\n",
    "#                 db_row = db_row | agg_val\n",
    "\n",
    "#                 # PLP\n",
    "#                 ret_val,msg_str, feature_val =  feat_util.getPLP(signal_val, sr)\n",
    "#                 agg_val, msg_str = feat_util.calcAggregations(feature_val, feature_name=\"plp\")\n",
    "#                 db_row = db_row | agg_val\n",
    "\n",
    "#                 # Power\n",
    "#                 ret_val,msg_str, feature_val =  feat_util.getPower(signal_val, sr=sr)\n",
    "#                 agg_val, msg_str = feat_util.calcAggregations(feature_val, feature_name=\"power\")\n",
    "#                 db_row = db_row | agg_val\n",
    "\n",
    "#                 # get MFCC's\n",
    "#                 if MFCC_flag == \"Y\":\n",
    "#                     for mfcc_count in range(num_mfcc):\n",
    "#                         mfcc_str = \"MFCC_\" + str(mfcc_count)\n",
    "#                         ret_val, msg_str, feature_val = feat_util.getMFCC(signal_val, sr=sr, pos_val=mfcc_count)\n",
    "#                         agg_val, msg_str = feat_util.calcAggregations(feature_val, feature_name=mfcc_str)\n",
    "#                         db_row = db_row | agg_val\n",
    "\n",
    "#                 # get MEL\n",
    "#                 for mel_count in range(num_mel):\n",
    "#                     mel_str = \"mel_\" + str(mel_count)\n",
    "#                     ret_val, msg_str, feature_val = feat_util.getMel(signal_val, sr=sr, pos_val=mel_count, cutoff_val=mel_cutoff_val)\n",
    "#                     agg_val, msg_str = feat_util.calcAggregations(feature_val, feature_name=mel_str)\n",
    "#                     db_row = db_row | agg_val\n",
    "\n",
    "#                 # get Loudness\n",
    "#                 ret_val,msg_str, feature_val =  feat_util.getLoudness(file_path)\n",
    "#                 #agg_val, msg_str = feat_util.calcAggregations(feature_val, feature_name=\"loudness\")\n",
    "#                 db_row = db_row | {'loudness_mean':[feature_val]}\n",
    "\n",
    "#                 # get Chromagram - To be included later. Hence commenting.\n",
    "#                 # ret_val,msg_str, feature_val = feat_util.getChromagram(signal_val, sr=sr)\n",
    "#                 # agg_val, msg_str = feat_util.calcAggregations(feature_val, feature_name=\"chromagram\")\n",
    "#                 # db_row = db_row | agg_val\n",
    "\n",
    "#                 temp_df = pd.DataFrame(db_row)\n",
    "#                 # Build feature dataset\n",
    "#                 if sample_cntr == 1:\n",
    "#                     sample_df = temp_df\n",
    "#                     #break\n",
    "#                 else:\n",
    "#                     sample_df = pd.concat([sample_df,temp_df],axis=0)\n",
    "#                 sample_cntr += 1\n",
    "\n",
    "#             data_df = sample_df\n",
    "\n",
    "#             # Build feature dataset\n",
    "#             if file_cntr == 1:\n",
    "#                 final_df = data_df\n",
    "#                 #break\n",
    "#             else:\n",
    "#                 final_df = pd.concat([final_df,data_df],axis=0)\n",
    "#             file_cntr += 1\n",
    "#             if raga_file_cntr >=4:\n",
    "#                 break\n",
    "#             raga_file_cntr +=1\n",
    "#             print(\"Extracted feature from file: \"+str(file_path))\n",
    "\n",
    "# # Save feature dataset\n",
    "# final_df = final_df.reset_index()\n",
    "# final_df = final_df.drop(columns = ['index'])\n",
    "# final_df.to_csv(feature_file_name, index=False)"
   ]
  },
  {
   "cell_type": "code",
   "execution_count": null,
   "id": "d4634ac6",
   "metadata": {},
   "outputs": [],
   "source": [
    "# # This code snippet perform prediction on 5 songs in raga mayamalavagowla & bhairavi and generates emotion plot based \n",
    "# root_path = \"D:/PhD Program/Final Research/Dissertation/Data/Model Datasets/\"\n",
    "# song_file_name = \"Carnatic_ragas.csv\"\n",
    "\n",
    "# song_df = pd.read_csv(root_path+song_file_name)\n",
    "# song_df = song_df.fillna(0)\n",
    "# files_to_choose = list(set(song_df.sound_file_name))\n",
    "\n",
    "# for file_name in files_to_choose:\n",
    "#     print(file_name)\n",
    "#     data_df_test = song_df[song_df.sound_file_name == file_name]  \n",
    "\n",
    "#     # Make predictions\n",
    "#     pred_df = make_predictions(data_df_test,carnatic_raga_flag='Y')\n",
    "#     print(pred_df)"
   ]
  },
  {
   "cell_type": "code",
   "execution_count": null,
   "id": "8008327d",
   "metadata": {},
   "outputs": [],
   "source": [
    "# # Set file paths and make predictions on validation dataset\n",
    "# root_path = \"D:/PhD Program/Final Research/Dissertation/Data/Model Datasets/\"\n",
    "# data_file_path = root_path + \"DS_1_All_Feature_5_sec_nMFCC_nht_ns_yat.csv\"\n",
    "# os.chdir(root_path)\n",
    "# data_df_raw = pd.read_csv(data_file_path)\n",
    "\n",
    "# files_to_choose = ['MT0001335920.mp3','MT0001613887.mp3','MT0000088320.mp3','MT0000092267.mp3']\n",
    "# for file_name in files_to_choose:\n",
    "#     data_df_test = data_df_raw[data_df_raw.sound_file_name == file_name]  \n",
    "\n",
    "#     # Make predictions\n",
    "#     emotion_df_grp, plt_obj_1, plt_obj_2 = make_predictions(data_df_test)"
   ]
  }
 ],
 "metadata": {
  "kernelspec": {
   "display_name": "Python 3 (ipykernel)",
   "language": "python",
   "name": "python3"
  },
  "language_info": {
   "codemirror_mode": {
    "name": "ipython",
    "version": 3
   },
   "file_extension": ".py",
   "mimetype": "text/x-python",
   "name": "python",
   "nbconvert_exporter": "python",
   "pygments_lexer": "ipython3",
   "version": "3.9.7"
  }
 },
 "nbformat": 4,
 "nbformat_minor": 5
}
